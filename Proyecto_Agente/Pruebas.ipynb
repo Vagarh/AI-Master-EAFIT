{
 "cells": [
  {
   "cell_type": "code",
   "execution_count": 1,
   "id": "a16a5990",
   "metadata": {},
   "outputs": [
    {
     "name": "stdout",
     "output_type": "stream",
     "text": [
      "🎉 ¡Bienvenido al Tutorial de Google ADK!\n",
      "\n",
      "📅 Fecha: 2025-08-18 17:29\n",
      "🐍 Versión de Python: 3.13.5\n",
      "💻 Entorno: Local\n",
      "\n",
      "✅ ¡Entorno listo para comenzar!\n"
     ]
    }
   ],
   "source": [
    "# Celda de verificación del entorno\n",
    "import sys\n",
    "import os\n",
    "from datetime import datetime\n",
    "\n",
    "print(\"🎉 ¡Bienvenido al Tutorial de Google ADK!\")\n",
    "print(f\"\\n📅 Fecha: {datetime.now().strftime('%Y-%m-%d %H:%M')}\")\n",
    "print(f\"🐍 Versión de Python: {sys.version.split()[0]}\")\n",
    "print(f\"💻 Entorno: Google Colab\" if 'google.colab' in sys.modules else \"💻 Entorno: Local\")\n",
    "print(\"\\n✅ ¡Entorno listo para comenzar!\")"
   ]
  },
  {
   "cell_type": "code",
   "execution_count": 2,
   "id": "f936cb67",
   "metadata": {},
   "outputs": [
    {
     "name": "stdout",
     "output_type": "stream",
     "text": [
      "📦 Instalando Google ADK con LiteLLM...\n",
      "\n",
      "✅ Instalación completada!\n",
      "\n",
      "🐍 Python: 3.13.5\n",
      "Name: google-adk\n",
      "Version: 1.4.2\n",
      "Name: litellm\n",
      "Version: 1.73.0\n",
      "Name: pydantic\n",
      "Version: 2.11.7\n"
     ]
    }
   ],
   "source": [
    "# Instalar Google ADK con soporte para LiteLLM\n",
    "print(\"📦 Instalando Google ADK con LiteLLM...\")\n",
    "!pip install -q google-adk==1.4.2\n",
    "!pip install -q litellm==1.73.0\n",
    "!pip install -qU python-dotenv pydantic\n",
    "\n",
    "print(\"\\n✅ Instalación completada!\")\n",
    "\n",
    "# Verificar versiones\n",
    "import sys\n",
    "print(f\"\\n🐍 Python: {sys.version.split()[0]}\")\n",
    "!pip show google-adk litellm pydantic | grep -E \"Name:|Version:\""
   ]
  },
  {
   "cell_type": "code",
   "execution_count": 16,
   "id": "25cb88f0",
   "metadata": {},
   "outputs": [
    {
     "name": "stdout",
     "output_type": "stream",
     "text": [
      "\n",
      "📋 Estado de las API Keys:\n",
      "   Google: ✅\n"
     ]
    }
   ],
   "source": [
    "import os \n",
    "from getpass import getpass\n",
    "\n",
    "if \"GOOGLE_API_KEY\" not in os.environ:\n",
    "    google_key=getpass(\"google api key requerida:\")\n",
    "    if google_key:\n",
    "        os.environ[\"GOOGLE_API_KEY\"] = google_key\n",
    "        os.environ[\"GOOGLE_GENAI_USE_VERTEXAI\"]= \"FALSE\"\n",
    "\n",
    "\n",
    "# Verificar configuración\n",
    "print(\"\\n📋 Estado de las API Keys:\")\n",
    "print(f\"   Google: {'✅' if os.environ.get('GOOGLE_API_KEY') else '❌'}\")"
   ]
  },
  {
   "cell_type": "code",
   "execution_count": 17,
   "id": "23bd746c",
   "metadata": {},
   "outputs": [
    {
     "data": {
      "text/plain": [
       "True"
      ]
     },
     "execution_count": 17,
     "metadata": {},
     "output_type": "execute_result"
    }
   ],
   "source": [
    "from dotenv import load_dotenv\n",
    "# cargar variables de entorno desde env\n",
    "load_dotenv(override=True)\n"
   ]
  },
  {
   "cell_type": "code",
   "execution_count": 18,
   "id": "00af54a2",
   "metadata": {},
   "outputs": [],
   "source": [
    "from google.adk.runners import Runner\n",
    "from google.adk.sessions import InMemorySessionService\n",
    "from google.adk.agents import LlmAgent\n",
    "from google.genai import types\n",
    "\n"
   ]
  },
  {
   "cell_type": "code",
   "execution_count": 12,
   "id": "397a09a9",
   "metadata": {},
   "outputs": [],
   "source": [
    "async def call_agent_async(query: str, runner, user_id, session_id):\n",
    "    \"\"\"Envía una consulta al agente e imprime la respuesta final.\"\"\"\n",
    "    print(f\"\\n>>> Consulta del usuario: {query}\")\n",
    "\n",
    "    # Prepara el mensaje del usuario en el formato de ADK\n",
    "    content = types.Content(role='user', parts=[types.Part(text=query)])\n",
    "\n",
    "    final_response_text = \"El agente no produjo una respuesta final.\" # Valor por defecto\n",
    "\n",
    "    # Concepto clave: run_async ejecuta la lógica del agente y genera eventos.\n",
    "    # Iteramos a través de los eventos para encontrar la respuesta final.\n",
    "    async for event in runner.run_async(user_id=user_id, session_id=session_id, new_message=content):\n",
    "        # Puedes descomentar la línea de abajo para ver *todos* los eventos durante la ejecución\n",
    "        # print(f\"  [Evento] Autor: {event.author}, Tipo: {type(event).__name__}, Final: {event.is_final_response()}, Contenido: {event.content}\")\n",
    "\n",
    "        # Concepto clave: is_final_response() marca el mensaje que concluye el turno.\n",
    "        if event.is_final_response():\n",
    "            if event.content and event.content.parts:\n",
    "                # Se asume que la respuesta de texto está en la primera parte\n",
    "                final_response_text = event.content.parts[0].text\n",
    "            elif event.actions and event.actions.escalate: # Maneja posibles errores/escalamientos\n",
    "                final_response_text = f\"El agente escaló: {event.error_message or 'Sin mensaje específico.'}\"\n",
    "            # Agrega más validaciones aquí si es necesario (por ejemplo, códigos de error específicos)\n",
    "            break # Deja de procesar eventos una vez encontrada la respuesta final\n",
    "\n",
    "    print(f\"<<< Respuesta del agente: {final_response_text}\")"
   ]
  },
  {
   "cell_type": "code",
   "execution_count": 8,
   "id": "b6b0311a",
   "metadata": {},
   "outputs": [],
   "source": [
    "MODEL_GEMINI = \"gemini-2.5-flash\"\n",
    "\n",
    "# Example: Defining the basic Agent\n",
    "refranes_agent = LlmAgent(\n",
    "    model=MODEL_GEMINI,\n",
    "    name=\"refranes_agent\",\n",
    "    description=\"completa los refranes que el usuario empieza\"\n",
    ")"
   ]
  },
  {
   "cell_type": "code",
   "execution_count": 13,
   "id": "f1efc573",
   "metadata": {},
   "outputs": [],
   "source": [
    "session_service = InMemorySessionService()\n",
    "APP_NAME = \"test_gemini\"\n",
    "USER_ID = \"user_1\"\n",
    "SESSION_ID = \"session_001\" # Using a fixed ID for simplicity\n",
    "\n",
    "# Create the specific session where the conversation will happen\n",
    "session = await session_service.create_session(app_name=APP_NAME,user_id=USER_ID,session_id=SESSION_ID)\n",
    "# Runner: This is the main component that manages the interaction with the agent.\n",
    "runner_gemini = Runner(agent=refranes_agent,app_name=APP_NAME,session_service=session_service)"
   ]
  },
  {
   "cell_type": "code",
   "execution_count": 19,
   "id": "2ffb04bb",
   "metadata": {},
   "outputs": [
    {
     "name": "stdout",
     "output_type": "stream",
     "text": [
      "\n",
      ">>> Consulta del usuario: A caballo regalado...\n",
      "<<< Respuesta del agente: ...no se le mira el diente.\n"
     ]
    }
   ],
   "source": [
    "await call_agent_async(\"A caballo regalado...\",\n",
    "                           runner=runner_gemini,\n",
    "                           user_id=USER_ID,\n",
    "                           session_id=SESSION_ID)"
   ]
  }
 ],
 "metadata": {
  "kernelspec": {
   "display_name": "base",
   "language": "python",
   "name": "python3"
  },
  "language_info": {
   "codemirror_mode": {
    "name": "ipython",
    "version": 3
   },
   "file_extension": ".py",
   "mimetype": "text/x-python",
   "name": "python",
   "nbconvert_exporter": "python",
   "pygments_lexer": "ipython3",
   "version": "3.13.5"
  }
 },
 "nbformat": 4,
 "nbformat_minor": 5
}
