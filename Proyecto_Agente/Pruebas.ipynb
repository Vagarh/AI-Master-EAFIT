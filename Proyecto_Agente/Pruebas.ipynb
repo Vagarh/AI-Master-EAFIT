{
 "cells": [
  {
   "cell_type": "code",
   "execution_count": 2,
   "id": "a16a5990",
   "metadata": {},
   "outputs": [
    {
     "name": "stdout",
     "output_type": "stream",
     "text": [
      "🎉 ¡Bienvenido al Tutorial de Google ADK!\n",
      "\n",
      "📅 Fecha: 2025-08-01 14:24\n",
      "🐍 Versión de Python: 3.13.5\n",
      "💻 Entorno: Local\n",
      "\n",
      "✅ ¡Entorno listo para comenzar!\n"
     ]
    }
   ],
   "source": [
    "# Celda de verificación del entorno\n",
    "import sys\n",
    "import os\n",
    "from datetime import datetime\n",
    "\n",
    "print(\"🎉 ¡Bienvenido al Tutorial de Google ADK!\")\n",
    "print(f\"\\n📅 Fecha: {datetime.now().strftime('%Y-%m-%d %H:%M')}\")\n",
    "print(f\"🐍 Versión de Python: {sys.version.split()[0]}\")\n",
    "print(f\"💻 Entorno: Google Colab\" if 'google.colab' in sys.modules else \"💻 Entorno: Local\")\n",
    "print(\"\\n✅ ¡Entorno listo para comenzar!\")"
   ]
  },
  {
   "cell_type": "code",
   "execution_count": 3,
   "id": "f936cb67",
   "metadata": {},
   "outputs": [
    {
     "name": "stdout",
     "output_type": "stream",
     "text": [
      "📦 Instalando Google ADK con LiteLLM...\n",
      "\n",
      "✅ Instalación completada!\n",
      "\n",
      "🐍 Python: 3.13.5\n"
     ]
    },
    {
     "name": "stderr",
     "output_type": "stream",
     "text": [
      "\"grep\" no se reconoce como un comando interno o externo,\n",
      "programa o archivo por lotes ejecutable.\n"
     ]
    }
   ],
   "source": [
    "# Instalar Google ADK con soporte para LiteLLM\n",
    "print(\"📦 Instalando Google ADK con LiteLLM...\")\n",
    "!pip install -q google-adk==1.4.2\n",
    "!pip install -q litellm==1.73.0\n",
    "!pip install -qU python-dotenv pydantic\n",
    "\n",
    "print(\"\\n✅ Instalación completada!\")\n",
    "\n",
    "# Verificar versiones\n",
    "import sys\n",
    "print(f\"\\n🐍 Python: {sys.version.split()[0]}\")\n",
    "!pip show google-adk litellm pydantic | grep -E \"Name:|Version:\""
   ]
  }
 ],
 "metadata": {
  "kernelspec": {
   "display_name": "env_agents",
   "language": "python",
   "name": "python3"
  },
  "language_info": {
   "codemirror_mode": {
    "name": "ipython",
    "version": 3
   },
   "file_extension": ".py",
   "mimetype": "text/x-python",
   "name": "python",
   "nbconvert_exporter": "python",
   "pygments_lexer": "ipython3",
   "version": "3.13.5"
  }
 },
 "nbformat": 4,
 "nbformat_minor": 5
}
