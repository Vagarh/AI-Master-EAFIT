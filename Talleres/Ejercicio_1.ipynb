{
 "cells": [
  {
   "cell_type": "markdown",
   "id": "ce4ce037",
   "metadata": {},
   "source": []
  },
  {
   "cell_type": "markdown",
   "id": "5bd5f3b1",
   "metadata": {},
   "source": [
    "## Taller N°1 : Aplicacion de Algoritmos de B´usqueda\n",
    "\n",
    "* Profesor: Jorge Ivan Padilla Buritica\n",
    "* Estudiante: Juan Felipe Cardona Arango \n",
    "* Maestria en ciencia de datos y analitica\n",
    "* Curso Fundamentos de Inteligencia Artificial\n",
    "* 2025-02\n"
   ]
  },
  {
   "cell_type": "markdown",
   "id": "b7828458",
   "metadata": {},
   "source": [
    "## Preparacion del entorno de trabajo"
   ]
  },
  {
   "cell_type": "code",
   "execution_count": 21,
   "id": "3753bb50",
   "metadata": {},
   "outputs": [],
   "source": [
    "import math\n",
    "import heapq\n",
    "import time\n",
    "from time import time"
   ]
  },
  {
   "cell_type": "markdown",
   "id": "a26088b2",
   "metadata": {},
   "source": [
    "# Punto 1"
   ]
  },
  {
   "cell_type": "markdown",
   "id": "ca1663ce",
   "metadata": {},
   "source": [
    "## Pseudocodigo"
   ]
  },
  {
   "cell_type": "code",
   "execution_count": 24,
   "id": "f78ed8b2",
   "metadata": {
    "vscode": {
     "languageId": "latex"
    }
   },
   "outputs": [
    {
     "ename": "SyntaxError",
     "evalue": "unexpected character after line continuation character (2552479889.py, line 1)",
     "output_type": "error",
     "traceback": [
      "\u001b[1;36m  Cell \u001b[1;32mIn[24], line 1\u001b[1;36m\u001b[0m\n\u001b[1;33m    \\begin{algorithm}[H]\u001b[0m\n\u001b[1;37m     ^\u001b[0m\n\u001b[1;31mSyntaxError\u001b[0m\u001b[1;31m:\u001b[0m unexpected character after line continuation character\n"
     ]
    }
   ],
   "source": [
    "\\begin{algorithm}[H]\n",
    "\\caption{A\\* (Búsqueda con Heurística)}\n",
    "\\begin{algorithmic}[1]\n",
    "\\STATE \\textbf{Entrada:} Grafo $G$, nodo inicio, nodo meta, heurística $h$\n",
    "\\STATE Inicializar:\n",
    "\\STATE\\quad $\\mathit{frontera} \\leftarrow$ \\texttt{ColaDePrioridad()} \\COMMENT{almacena (nodo, $f=g+h$)}\n",
    "\\STATE\\quad $g[\\text{inicio}]\\leftarrow 0$\n",
    "\\STATE\\quad $\\mathit{frontera}.\\text{insertar}(\\text{inicio},h(\\text{inicio}))$\n",
    "\\STATE\\quad $\\mathit{padre}\\leftarrow \\{\\}$\n",
    "\n",
    "\\WHILE{$\\mathit{frontera}$ no esté vacía}\n",
    "  \\STATE $n \\leftarrow \\mathit{frontera}.\\text{extraer\\_min}()$\n",
    "  \\IF{$n = \\text{meta}$}\n",
    "    \\RETURN \\texttt{reconstruir\\_camino}($\\mathit{padre},n$)\n",
    "  \\ENDIF\n",
    "  \\FORALL{vecino en $G.\\text{adyacentes}(n)$}\n",
    "    \\STATE $g_{\\text{tentativo}}\\leftarrow g[n]+\\text{costo}(n,vecino)$\n",
    "    \\IF{vecino no en $g$ \\OR $g_{\\text{tentativo}}<g[\\text{vecino}]$}\n",
    "      \\STATE $g[\\text{vecino}]\\leftarrow g_{\\text{tentativo}}$\n",
    "      \\STATE $f\\leftarrow g_{\\text{tentativo}}+h(\\text{vecino})$\n",
    "      \\STATE $\\mathit{frontera}.\\text{insertar\\_o\\_actualizar}(\\text{vecino},f)$\n",
    "      \\STATE $\\mathit{padre}[\\text{vecino}]\\leftarrow n$\n",
    "    \\ENDIF\n",
    "  \\ENDFOR\n",
    "\\ENDWHILE\n",
    "\\RETURN \\texttt{fallo}\n",
    "\\end{algorithmic}\n",
    "\\end{algorithm}\n"
   ]
  },
  {
   "cell_type": "markdown",
   "id": "c3acc076",
   "metadata": {},
   "source": [
    "## Codigo"
   ]
  },
  {
   "cell_type": "code",
   "execution_count": 11,
   "id": "d49272ef",
   "metadata": {},
   "outputs": [],
   "source": [
    "class Node:\n",
    "    def __init__(self, id, coord):\n",
    "        self.id = id          # Identificador único\n",
    "        self.coord = coord    # (x, y) en coordenadas rurales\n",
    "        self.edges = []       # Lista de tuplas (vecino, costo)\n",
    "\n",
    "    def add_edge(self, neighbor, cost):\n",
    "        self.edges.append((neighbor, cost))\n",
    "\n",
    "# Heurística: distancia euclidiana\n",
    "def heuristic(a: Node, b: Node) -> float:\n",
    "    (x1, y1), (x2, y2) = a.coord, b.coord\n",
    "    return math.hypot(x2 - x1, y2 - y1)\n",
    "\n",
    "# A* Search\n",
    "def astar(graph, start: Node, goal: Node):\n",
    "    \"\"\"A* Search: graph no dirigido implícito en conexiones de nodos.\"\"\"\n",
    "    t0 = time.time()\n",
    "    # Aunque recibe graph por compatibilidad con compare_algorithms, no se utiliza explícitamente.\n",
    "    frontier = [(0 + heuristic(start, goal), 0, start, None)]\n",
    "    # (f = g + h, g = coste acumulado, nodo actual, padre)\n",
    "    visited = {}\n",
    "    expanded = 0\n",
    "\n",
    "    while frontier:\n",
    "        f, g, current, parent = heapq.heappop(frontier)\n",
    "        expanded += 1\n",
    "        if current.id in visited:\n",
    "            continue\n",
    "        visited[current.id] = (parent, g)\n",
    "        if current.id == goal.id:\n",
    "            break\n",
    "        for neighbor, cost in current.edges:\n",
    "            if neighbor.id in visited:\n",
    "                continue\n",
    "            g2 = g + cost\n",
    "            f2 = g2 + heuristic(neighbor, goal)\n",
    "            heapq.heappush(frontier, (f2, g2, neighbor, current.id))\n",
    "\n",
    "    # Reconstrucción de la ruta óptima\n",
    "    path, node = [], goal.id\n",
    "    while node is not None:\n",
    "        path.append(node)\n",
    "        node, _ = visited[node]\n",
    "    path = list(reversed(path))\n",
    "    t1 = time.time()\n",
    "\n",
    "    return {\n",
    "        'path': path,\n",
    "        'cost': visited[goal.id][1],\n",
    "        'time': t1 - t0,\n",
    "        'expanded': expanded,\n",
    "        'depth': len(path) - 1\n",
    "    }"
   ]
  },
  {
   "cell_type": "markdown",
   "id": "662329be",
   "metadata": {},
   "source": [
    "## Implementacion"
   ]
  },
  {
   "cell_type": "code",
   "execution_count": 12,
   "id": "de937675",
   "metadata": {},
   "outputs": [],
   "source": [
    "def bfs(graph, start, goal):\n",
    "    \"\"\"Breadth-First Search stub: implementar búsqueda en anchura.\"\"\"\n",
    "    # TODO: implementar BFS que retorne:\n",
    "    # {'path': [...], 'cost': ..., 'expanded': ..., 'depth': ...}\n",
    "    return {'path': [], 'cost': None, 'expanded': 0, 'depth': 0}\n",
    "\n",
    "def dfs(graph, start, goal):\n",
    "    \"\"\"Depth-First Search stub: implementar búsqueda en profundidad.\"\"\"\n",
    "    # TODO: implementar DFS con la misma estructura de retorno\n",
    "    return {'path': [], 'cost': None, 'expanded': 0, 'depth': 0}\n",
    "\n",
    "def ucs(graph, start, goal):\n",
    "    \"\"\"Uniform Cost Search stub: implementar búsqueda de costo uniforme.\"\"\"\n",
    "    # TODO: implementar UCS similar a A* sin heurística\n",
    "    return {'path': [], 'cost': None, 'expanded': 0, 'depth': 0}\n",
    "\n",
    "def compare_algorithms(graph, start, goal, algorithms):\n",
    "    results = {}\n",
    "    for name, func in algorithms.items():\n",
    "        t0 = time()\n",
    "        res = func(graph, start, goal)\n",
    "        res['time'] = time() - t0\n",
    "        results[name] = res\n",
    "    return results\n"
   ]
  },
  {
   "cell_type": "code",
   "execution_count": null,
   "id": "a1bacd9f",
   "metadata": {},
   "outputs": [
    {
     "name": "stdout",
     "output_type": "stream",
     "text": [
      "{'BFS': {'path': ['A', 'B', 'C'], 'cost': 3.6500000000000004, 'expanded': 3, 'depth': 2, 'time': 0.0}, 'DFS': {'path': ['A', 'B', 'C'], 'cost': None, 'expanded': 3, 'depth': 2, 'time': 0.0}, 'UCS': {'path': ['A', 'B', 'C'], 'cost': 3.6500000000000004, 'expanded': 3, 'depth': 2, 'time': 0.0014858245849609375}, 'A*': {'path': ['A', 'B', 'C'], 'cost': 3.6500000000000004, 'time': 0.0, 'expanded': 3, 'depth': 2}}\n"
     ]
    }
   ],
   "source": [
    "import time\n",
    "import heapq\n",
    "from collections import deque\n",
    "\n",
    "# Breadth-First Search\n",
    "def bfs(graph, start, goal):\n",
    "    \"\"\"Breadth-First Search: camino mínimo en número de aristas.\"\"\"\n",
    "    t0 = time.time()\n",
    "    queue = deque([start])\n",
    "    visited = {start.id: (None, 0)}  # nodo_id: (padre_id, depth)\n",
    "    expanded = 0\n",
    "\n",
    "    while queue:\n",
    "        current = queue.popleft()\n",
    "        expanded += 1\n",
    "        if current.id == goal.id:\n",
    "            break\n",
    "        for neighbor, cost in current.edges:\n",
    "            if neighbor.id not in visited:\n",
    "                visited[neighbor.id] = (current.id, visited[current.id][1] + 1)\n",
    "                queue.append(neighbor)\n",
    "\n",
    "    # Reconstrucción de la ruta\n",
    "    path, node_id = [], goal.id\n",
    "    node_map = {n.id: n for n in graph}\n",
    "    while node_id is not None:\n",
    "        path.append(node_id)\n",
    "        node_id, _ = visited[node_id]\n",
    "    path = list(reversed(path))\n",
    "\n",
    "    # Cálculo del costo real según pesos\n",
    "    cost = 0\n",
    "    for i in range(len(path) - 1):\n",
    "        node = node_map[path[i]]\n",
    "        for nb, c in node.edges:\n",
    "            if nb.id == path[i+1]:\n",
    "                cost += c\n",
    "                break\n",
    "\n",
    "    t1 = time.time()\n",
    "    return {'path': path, 'cost': cost, 'expanded': expanded, 'depth': len(path) - 1, 'time': t1 - t0}\n",
    "\n",
    "# Depth-First Search\n",
    "def dfs(graph, start, goal):\n",
    "    \"\"\"Depth-First Search: explora en profundidad, devuelve primer camino encontrado.\"\"\"\n",
    "    t0 = time.time()\n",
    "    visited = {}\n",
    "    expanded = 0\n",
    "    result = None\n",
    "\n",
    "    def dfs_rec(node, parent_id, depth):\n",
    "        nonlocal expanded, result\n",
    "        if node.id in visited or result:\n",
    "            return\n",
    "        visited[node.id] = (parent_id, depth)\n",
    "        expanded += 1\n",
    "        if node.id == goal.id:\n",
    "            # Reconstrucción de la ruta\n",
    "            path, nid = [], node.id\n",
    "            while nid is not None:\n",
    "                path.append(nid)\n",
    "                nid, _ = visited[nid]\n",
    "            result = path[::-1]\n",
    "            return\n",
    "        for neighbor, cost in node.edges:\n",
    "            dfs_rec(neighbor, node.id, depth + 1)\n",
    "\n",
    "    dfs_rec(start, None, 0)\n",
    "    path = result or []\n",
    "    t1 = time.time()\n",
    "    return {'path': path, 'cost': None, 'expanded': expanded, 'depth': len(path) - 1 if path else None, 'time': t1 - t0}\n",
    "\n",
    "# Uniform Cost Search\n",
    "def ucs(graph, start, goal):\n",
    "    \"\"\"Uniform Cost Search: encuentra camino óptimo según pesos.\"\"\"\n",
    "    t0 = time.time()\n",
    "    frontier = [(0, start, None)]  # (g, nodo, padre)\n",
    "    visited = {}\n",
    "    expanded = 0\n",
    "\n",
    "    while frontier:\n",
    "        g, current, parent = heapq.heappop(frontier)\n",
    "        if current.id in visited:\n",
    "            continue\n",
    "        visited[current.id] = (parent.id if parent else None, g)\n",
    "        expanded += 1\n",
    "        if current.id == goal.id:\n",
    "            break\n",
    "        for neighbor, cost in current.edges:\n",
    "            if neighbor.id not in visited:\n",
    "                heapq.heappush(frontier, (g + cost, neighbor, current))\n",
    "\n",
    "    # Reconstrucción de la ruta\n",
    "    path, nid = [], goal.id\n",
    "    while nid is not None:\n",
    "        path.append(nid)\n",
    "        nid, _ = visited[nid]\n",
    "    path = path[::-1]\n",
    "    t1 = time.time()\n",
    "    return {'path': path, 'cost': visited[goal.id][1], 'expanded': expanded, 'depth': len(path) - 1, 'time': t1 - t0}\n",
    "\n",
    "# Comparador de algoritmos\n",
    "def compare_algorithms(graph, start, goal, algorithms):\n",
    "    \"\"\"Ejecuta y compara múltiples algoritmos, retornando métricas por algoritmo.\"\"\"\n",
    "    results = {}\n",
    "    for name, func in algorithms.items():\n",
    "        results[name] = func(graph, start, goal)\n",
    "    return results\n",
    "\n"
   ]
  },
  {
   "cell_type": "code",
   "execution_count": 20,
   "id": "c540ac6a",
   "metadata": {},
   "outputs": [
    {
     "name": "stdout",
     "output_type": "stream",
     "text": [
      "{'BFS': {'path': ['A', 'B', 'C'], 'cost': 3.6500000000000004, 'expanded': 3, 'depth': 2, 'time': 0.0}, 'DFS': {'path': ['A', 'B', 'C'], 'cost': None, 'expanded': 3, 'depth': 2, 'time': 0.0}, 'UCS': {'path': ['A', 'B', 'C'], 'cost': 3.6500000000000004, 'expanded': 3, 'depth': 2, 'time': 0.0}, 'A*': {'path': ['A', 'B', 'C'], 'cost': 3.6500000000000004, 'time': 0.0, 'expanded': 3, 'depth': 2}}\n"
     ]
    }
   ],
   "source": [
    "# Ejemplo de uso:\n",
    "node_A = Node('A', (0, 0))\n",
    "node_B = Node('B', (1, 2))\n",
    "node_C = Node('C', (2, 1))\n",
    "node_A.add_edge(node_B, 2.24)\n",
    "node_B.add_edge(node_A, 2.24)\n",
    "node_B.add_edge(node_C, 1.41)\n",
    "node_C.add_edge(node_B, 1.41)\n",
    "grafo = [node_A, node_B, node_C]\n",
    "nodo_inicio = node_A\n",
    "nodo_destino = node_C\n",
    "algorithms = {'BFS': bfs, 'DFS': dfs, 'UCS': ucs, 'A*': astar}\n",
    "metrics = compare_algorithms(grafo, nodo_inicio, nodo_destino, algorithms)\n",
    "print(metrics)"
   ]
  },
  {
   "cell_type": "markdown",
   "id": "159e0309",
   "metadata": {},
   "source": [
    "## Interpretación de resultados y comparación de algoritmos\n",
    "A continuación se comentan las métricas obtenidas en el ejemplo para cada algoritmo:\n",
    "\n",
    "- **BFS**:\n",
    "  - *Path*: `['A', 'B', 'C']` coincide con el camino de menor número de saltos.\n",
    "  - *Cost*: 3.65 (suma de pesos de aristas). Aunque BFS no utiliza pesos para decidir la ruta, aquí se calcula el coste real tras la búsqueda.\n",
    "  - *Expanded*: 3 nodos (todos los nodos fueron visitados hasta alcanzar el destino).\n",
    "  - *Depth*: 2 aristas.\n",
    "  - *Time*: ~0s (grafos pequeños).\n",
    "\n",
    "- **DFS**:\n",
    "  - *Path*: `['A', 'B', 'C']` primer camino encontrado en profundidad.\n",
    "  - *Cost*: no aplicable (se omitió cálculo de coste en DFS, pero podría añadirse como en BFS).\n",
    "  - *Expanded*: 3 nodos.\n",
    "  - *Depth*: 2.\n",
    "  - *Time*: ~0s.\n",
    "\n",
    "- **UCS**:\n",
    "  - *Path*: `['A', 'B', 'C']` ruta óptima ponderada.\n",
    "  - *Cost*: 3.65 (optimo según pesos).\n",
    "  - *Expanded*: 3 nodos.\n",
    "  - *Depth*: 2.\n",
    "  - *Time*: ~0s.\n",
    "\n",
    "- **A***:\n",
    "  - *Path*: `['A', 'B', 'C']` misma ruta óptima.\n",
    "  - *Cost*: 3.65.\n",
    "  - *Expanded*: 3 nodos (igual que UCS en este grafo pequeño y heurística perfecta).\n",
    "  - *Depth*: 2.\n",
    "  - *Time*: ~0s.\n",
    "\n",
    "**Reflexiones**:\n",
    "1. Los cuatro algoritmos hallan la misma ruta en este escenario trivial.\n",
    "2. BFS y DFS no optimizan en coste, pero BFS encuentra el camino de menor longitud en aristas.\n",
    "3. UCS y A* garantizan optimalidad en coste; A* expande igual que UCS aquí porque la heurística euclidiana coincide con costes reales.\n",
    "4. En grafos mayores con variantes de pesos y geometría más compleja, se observará diferencia en número de nodos expandidos y tiempo de cómputo.\n",
    "5. Se recomienda realizar comparaciones en escenarios más grandes y heterogéneos para evidenciar ventajas de la heurística en A* frente a UCS.\n",
    "\n"
   ]
  },
  {
   "cell_type": "markdown",
   "id": "e5fa7600",
   "metadata": {},
   "source": [
    "## Respuestas a Preguntas Orientadoras"
   ]
  },
  {
   "cell_type": "markdown",
   "id": "d8fb8ab0",
   "metadata": {},
   "source": [
    "# Punto 2"
   ]
  },
  {
   "cell_type": "markdown",
   "id": "ae5c5d87",
   "metadata": {},
   "source": [
    "## Pseudocodigo "
   ]
  },
  {
   "cell_type": "markdown",
   "id": "ae2b27f8",
   "metadata": {},
   "source": [
    "ALGORITMO Anchura(G, inicio, meta)\n",
    "    frontera ← Cola()                    // FIFO\n",
    "    frontera.encolar(inicio)\n",
    "    explorados ← {inicio}\n",
    "    padre ← diccionario vacío\n",
    "\n",
    "    MIENTRAS frontera NO esté vacía HACER\n",
    "        n ← frontera.desencolar()\n",
    "        SI n = meta ENTONCES\n",
    "            DEVOLVER reconstruir_camino(padre, n)\n",
    "        FIN SI\n",
    "\n",
    "        PARA CADA vecino EN G.adyacentes(n) HACER\n",
    "            SI vecino NO está EN explorados ENTONCES\n",
    "                explorados.agregar(vecino)\n",
    "                frontera.encolar(vecino)\n",
    "                padre[vecino] ← n\n",
    "            FIN SI\n",
    "        FIN PARA\n",
    "    FIN MIENTRAS\n",
    "\n",
    "    DEVOLVER fallo\n",
    "FIN ALGORITMO"
   ]
  },
  {
   "cell_type": "code",
   "execution_count": null,
   "id": "d8acc5af",
   "metadata": {},
   "outputs": [],
   "source": [
    "## Codigo "
   ]
  },
  {
   "cell_type": "code",
   "execution_count": null,
   "id": "af3a7593",
   "metadata": {},
   "outputs": [],
   "source": [
    "# Punto 3"
   ]
  },
  {
   "cell_type": "markdown",
   "id": "02a26d41",
   "metadata": {},
   "source": [
    "## Pseudocodigo"
   ]
  },
  {
   "cell_type": "markdown",
   "id": "e10b4b19",
   "metadata": {},
   "source": [
    "ALGORITMO Anchura(G, inicio, meta)\n",
    "    // Inicialización\n",
    "    frontera ← Cola()                    // FIFO\n",
    "    frontera.encolar(inicio)\n",
    "    explorados ← {inicio}\n",
    "    padre ← diccionario vacío\n",
    "\n",
    "    // Bucle principal\n",
    "    MIENTRAS frontera NO esté vacía HACER\n",
    "        n ← frontera.desencolar()\n",
    "        SI n = meta ENTONCES\n",
    "            DEVOLVER reconstruir_camino(padre, n)\n",
    "        FIN SI\n",
    "\n",
    "        // Expandir vecinos no explorados\n",
    "        PARA CADA vecino EN G.adyacentes(n) HACER\n",
    "            SI vecino NO está EN explorados ENTONCES\n",
    "                explorados.agregar(vecino)\n",
    "                frontera.encolar(vecino)\n",
    "                padre[vecino] ← n\n",
    "            FIN SI\n",
    "        FIN PARA\n",
    "    FIN MIENTRAS\n",
    "\n",
    "    // Si no se encuentra la meta\n",
    "    DEVOLVER fallo\n",
    "FIN ALGORITMO\n",
    "\n",
    "\n"
   ]
  },
  {
   "cell_type": "code",
   "execution_count": null,
   "id": "a4236c54",
   "metadata": {},
   "outputs": [],
   "source": [
    "## Codigo"
   ]
  },
  {
   "cell_type": "markdown",
   "id": "fbb339b4",
   "metadata": {},
   "source": [
    "## Respuestas a Preguntas Orientadoras"
   ]
  },
  {
   "cell_type": "markdown",
   "id": "254ea56b",
   "metadata": {},
   "source": [
    "# Punto 3"
   ]
  },
  {
   "cell_type": "markdown",
   "id": "27ac173f",
   "metadata": {},
   "source": [
    "## Pseudocodigo"
   ]
  },
  {
   "cell_type": "markdown",
   "id": "525f91e3",
   "metadata": {},
   "source": [
    "SUBALGORITMO Profundidad_Limitada(G, n, meta, límite)\n",
    "    SI n = meta ENTONCES\n",
    "        DEVOLVER reconstruir_camino(global_padre, n)\n",
    "    FIN SI\n",
    "    SI límite = 0 ENTONCES\n",
    "        DEVOLVER \"corte\"                           // profundidad agotada\n",
    "    FIN SI\n",
    "    corte_ocurrió ← FALSO\n",
    "    PARA CADA vecino EN G.adyacentes(n) HACER\n",
    "        SI vecino NO visitado ENTONCES\n",
    "            global_padre[vecino] ← n\n",
    "            resultado ← Profundidad_Limitada(G, vecino, meta, límite-1)\n",
    "            SI resultado = \"corte\" ENTONCES\n",
    "                corte_ocurrió ← VERDADERO\n",
    "            SINO SI resultado ≠ fallo ENTONCES\n",
    "                DEVOLVER resultado                // se halló solución\n",
    "            FIN SI\n",
    "        FIN SI\n",
    "    FIN PARA\n",
    "    SI corte_ocurrió ENTONCES DEVOLVER \"corte\" SINO DEVOLVER fallo\n",
    "FIN SUBALGORITMO\n"
   ]
  },
  {
   "cell_type": "markdown",
   "id": "c922eead",
   "metadata": {},
   "source": [
    "ALGORITMO ACMR_Profundidad_Limitada(Especie a, Especie b, límite L, DAG filogenia)\n",
    "    ancestros_a ← Ancestros_Limitados(a, L, filogenia)\n",
    "    ancestros_b ← Ancestros_Limitados(b, L, filogenia)\n",
    "    comunes ← intersección(ancestros_a, ancestros_b)\n",
    "    SI comunes vacía ENTONCES DEVOLVER \"sin ancestro común dentro de L\"\n",
    "    DEVOLVER más_profundo(comunes)                 // profundidad mínima desde a y b\n",
    "FIN ALGORITMO\n"
   ]
  },
  {
   "cell_type": "markdown",
   "id": "5c8bd0c4",
   "metadata": {},
   "source": [
    "## Codigo"
   ]
  },
  {
   "cell_type": "markdown",
   "id": "03ca6467",
   "metadata": {},
   "source": [
    "## Respuestas a Preguntas Orientadoras"
   ]
  },
  {
   "cell_type": "markdown",
   "id": "cee28dbe",
   "metadata": {},
   "source": [
    "# Punto 4"
   ]
  },
  {
   "cell_type": "markdown",
   "id": "ce85fd02",
   "metadata": {},
   "source": [
    "## Pseudocodigo"
   ]
  },
  {
   "cell_type": "markdown",
   "id": "c85af86e",
   "metadata": {},
   "source": [
    "ALGORITMO ACMR_Prof_Lim(a, b, L, grafo)\n",
    "    // Obtener ancestros hasta L niveles\n",
    "    A ← Ancestros_Limitados(a, L, grafo)\n",
    "    B ← Ancestros_Limitados(b, L, grafo)\n",
    "\n",
    "    comunes ← A ∩ B\n",
    "    SI comunes vacío ENTONCES\n",
    "        DEVOLVER \"sin ancestro común hasta L\"\n",
    "    FIN SI\n",
    "\n",
    "    DEVOLVER ancestro_más_profundo(comunes)\n",
    "FIN ALGORITMO\n",
    "\n",
    "SUBALGORITMO Ancestros_Limitados(nodo, L, grafo)\n",
    "    conjunto ← {nodo}\n",
    "    SI L = 0 ENTONCES\n",
    "        DEVOLVER conjunto\n",
    "    FIN SI\n",
    "\n",
    "    PARA CADA padre EN grafo.predecesores(nodo) HACER\n",
    "        conjunto ← conjunto ∪ Ancestros_Limitados(padre, L-1, grafo)\n",
    "    FIN PARA\n",
    "\n",
    "    DEVOLVER conjunto\n",
    "FIN SUBALGORITMO\n"
   ]
  },
  {
   "cell_type": "markdown",
   "id": "8b67ceda",
   "metadata": {},
   "source": [
    "## Codigo"
   ]
  },
  {
   "cell_type": "markdown",
   "id": "7db58be5",
   "metadata": {},
   "source": [
    "## Respuestas a Preguntas Orientadoras"
   ]
  }
 ],
 "metadata": {
  "kernelspec": {
   "display_name": "base",
   "language": "python",
   "name": "python3"
  },
  "language_info": {
   "codemirror_mode": {
    "name": "ipython",
    "version": 3
   },
   "file_extension": ".py",
   "mimetype": "text/x-python",
   "name": "python",
   "nbconvert_exporter": "python",
   "pygments_lexer": "ipython3",
   "version": "3.12.7"
  }
 },
 "nbformat": 4,
 "nbformat_minor": 5
}
