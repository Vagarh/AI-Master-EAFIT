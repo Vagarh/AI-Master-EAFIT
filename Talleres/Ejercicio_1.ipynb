{
 "cells": [
  {
   "cell_type": "markdown",
   "id": "ce4ce037",
   "metadata": {},
   "source": []
  },
  {
   "cell_type": "markdown",
   "id": "5bd5f3b1",
   "metadata": {},
   "source": [
    "## Taller N°1 : Aplicacion de Algoritmos de B´usqueda\n",
    "\n",
    "* Profesor: Jorge Ivan Padilla Buritica\n",
    "* Estudiante: Juan Felipe Cardona Arango \n",
    "* Maestria en Ciencia de Datos y Analitica\n",
    "* Curso Fundamentos de Inteligencia Artificial\n",
    "* 2025-02\n"
   ]
  },
  {
   "cell_type": "markdown",
   "id": "b7828458",
   "metadata": {},
   "source": [
    "## Preparacion del entorno de trabajo"
   ]
  },
  {
   "cell_type": "code",
   "execution_count": 51,
   "id": "3753bb50",
   "metadata": {},
   "outputs": [],
   "source": [
    "import math\nimport heapq\nimport time\nfrom utils import reconstruct, compute_hop_dist\n"
   ]
  },
  {
   "cell_type": "markdown",
   "id": "a26088b2",
   "metadata": {},
   "source": [
    "# Punto 1:Optimizacion de rutas rurales (Logistica)"
   ]
  },
  {
   "cell_type": "markdown",
   "id": "f6099fc8",
   "metadata": {},
   "source": [
    "## Pregunta orientadora\n",
    "**¿Cómo llego del nodo de inicio al nodo final gastando lo menos posible?**\n",
    "\n",
    "---\n",
    "\n",
    "## Algoritmos usados\n",
    "- **UCS (Búsqueda de Costo Uniforme)**: explora rutas siempre expandiendo el camino más barato encontrado hasta ahora. Garantiza el camino óptimo si los pesos son positivos.\n",
    "- **A***: es parecido a UCS, pero usa una **heurística** que le da una idea de qué tan cerca está del destino. Esto le permite ser más rápido sin perder la exactitud si la heurística está bien diseñada.\n",
    "\n",
    "---\n",
    "\n",
    "## ¿Qué es la heurística?\n",
    "Una heurística es una **estimación** del costo que falta para llegar al destino. Por ejemplo, si conocemos las coordenadas de cada punto, podemos usar la **distancia en línea recta** (distancia euclidiana) como estimación.\n",
    "\n",
    "> Si la línea recta siempre es igual o menor que cualquier ruta real, no se sobreestima el costo y A* seguirá encontrando la mejor ruta.\n",
    "\n",
    "---\n",
    "\n",
    "## Solución propuesta\n",
    "1. Representar el mapa como un grafo con nodos, conexiones y pesos.\n",
    "2. Elegir el nodo inicial y el nodo destino.\n",
    "3. Seleccionar el algoritmo (UCS o A*) y, si es A*, definir la heurística.\n",
    "4. Explorar el grafo paso a paso, comparando costos acumulados.\n",
    "5. Cuando se llega al destino, devolver el camino encontrado y su costo total.\n",
    "\n",
    "---\n",
    "\n",
    "## Medición\n",
    "Para evaluar un algoritmo no basta con que encuentre el camino óptimo; también importa **el esfuerzo que le costó encontrarlo**.\n",
    "\n",
    "Por eso medimos:\n",
    "- **Costo total** del camino encontrado.\n",
    "- **Nodos expandidos** durante la búsqueda.\n",
    "- **Profundidad** de la solución (número de pasos o aristas).\n",
    "- **Tiempo de ejecución** (en milisegundos).\n",
    "\n"
   ]
  },
  {
   "cell_type": "markdown",
   "id": "c3acc076",
   "metadata": {},
   "source": [
    "## Codigo"
   ]
  },
  {
   "cell_type": "code",
   "execution_count": 2,
   "id": "de937675",
   "metadata": {},
   "outputs": [],
   "source": [
    "from __future__ import annotations\n",
    "from typing import Dict, Tuple, Callable, List, Any\n",
    "import math\n",
    "import time\n",
    "import heapq\n",
    "import networkx as nx\n"
   ]
  },
  {
   "cell_type": "code",
   "execution_count": 3,
   "id": "c7c4662b",
   "metadata": {},
   "outputs": [],
   "source": [
    "# Runner genérico de algoritmos\n",
    "from typing import Callable, Dict, Any\n",
    "def run_compare_algorithms(algos: Dict[str, Callable[[], Any]]):\n",
    "    \"\"\"Ejecuta funciones de búsqueda y recopila métricas comunes.\"\"\"\n",
    "    table = []\n",
    "    for name, func in algos.items():\n",
    "        t0 = time.time()\n",
    "        res = func()\n",
    "        t1 = time.time()\n",
    "        if hasattr(res, 'as_dict'):\n",
    "            data = res.as_dict()\n",
    "        elif isinstance(res, dict):\n",
    "            data = res\n",
    "        elif isinstance(res, tuple) and len(res)==5:\n",
    "            path, cost, expd, depth, tms = res\n",
    "            data = {'path': path, 'cost': cost, 'expanded': expd, 'depth': depth, 'runtime_ms': tms}\n",
    "        else:\n",
    "            data = {'result': res}\n",
    "        data['algo'] = name\n",
    "        data.setdefault('runtime_ms', round((t1-t0)*1000,3))\n",
    "        table.append(data)\n",
    "    return table\n"
   ]
  },
  {
   "cell_type": "code",
   "execution_count": 4,
   "id": "a4da2278",
   "metadata": {},
   "outputs": [
    {
     "name": "stdout",
     "output_type": "stream",
     "text": [
      "{'algo': 'UCS', 'heuristic': 'h=0', 'path': ['A', 'B', 'C', 'F'], 'cost': 6.708203932499369, 'expanded': 6, 'depth': 3, 'runtime_ms': 0.15}\n",
      "{'algo': 'A*', 'heuristic': 'h=0', 'path': ['A', 'B', 'C', 'F'], 'cost': 6.708203932499369, 'expanded': 6, 'depth': 3, 'runtime_ms': 0.022}\n",
      "{'algo': 'A*', 'heuristic': 'h=euclid', 'path': ['A', 'B', 'C', 'F'], 'cost': 6.708203932499369, 'expanded': 5, 'depth': 3, 'runtime_ms': 0.019}\n",
      "{'algo': 'A*', 'heuristic': 'h=1.3*euclid', 'path': ['A', 'B', 'C', 'F'], 'cost': 6.708203932499369, 'expanded': 4, 'depth': 3, 'runtime_ms': 0.015}\n"
     ]
    }
   ],
   "source": [
    "if __name__ == '__main__':\n",
    "    G, s, t = build_sample_graph()\n",
    "    algos = {\n",
    "        'UCS': lambda: ucs(G, s, t),\n",
    "        'A* h=0': lambda: astar(G, s, t, h_zero(t)),\n",
    "        'A* h=euclid': lambda: astar(G, s, t, h_euclid(G, t)),\n",
    "        'A* h=1.3*euclid': lambda: astar(G, s, t, h_scaled(G, t, alpha=1.3))\n",
    "    }\n",
    "    table = run_compare_algorithms(algos)\n",
    "    for row in table:\n",
    "        print(row)\n"
   ]
  },
  {
   "cell_type": "markdown",
   "id": "159e0309",
   "metadata": {},
   "source": [
    " Interpretación de resultados y comparación de algoritmos\n",
    "A continuación se comentan las métricas obtenidas en el ejemplo para cada algoritmo:\n",
    "\n",
    " Resultados obtenidos\n",
    "| Algoritmo | Heurística       | Camino encontrado       | Costo   | Nodos expandidos | Profundidad | Tiempo (ms) |\n",
    "|-----------|------------------|------------------------|---------|------------------|-------------|-------------|\n",
    "| UCS       | h=0              | A → B → C → F           | 6.7082  | 6                | 3           | 0.150       |\n",
    "| A*        | h=0              | A → B → C → F           | 6.7082  | 6                | 3           | 0.022       |\n",
    "| A*        | h=euclid         | A → B → C → F           | 6.7082  | 5                | 3           | 0.019       |\n",
    "| A*        | h=1.3×euclid     | A → B → C → F           | 6.7082  | 4                | 3           | 0.015       |\n",
    "\n",
    "---\n",
    "\n",
    "**Interpretación:**\n",
    "- Todas las configuraciones encontraron el mismo camino óptimo con costo ≈ 6.71.\n",
    "- Usar una heurística informativa (euclidiana) redujo la cantidad de nodos expandidos y el tiempo de ejecución frente a UCS.\n",
    "- La heurística escalada (1.3×euclid) aceleró aún más la búsqueda, aunque en grafos más complejos podría perder optimalidad.\n",
    "\n"
   ]
  },
  {
   "cell_type": "markdown",
   "id": "e5fa7600",
   "metadata": {},
   "source": [
    "## Respuestas a Preguntas Orientadoras"
   ]
  },
  {
   "cell_type": "markdown",
   "id": "e973c900",
   "metadata": {},
   "source": [
    "**1) ¿Cómo afecta la calidad de la heurística?**\n",
    "> Una heurística más informativa (euclidiana) reduce el número de nodos expandidos y el tiempo de ejecución sin perder optimalidad. La heurística escalada (1.3×euclid) reduce aún más las expansiones, pero podría sacrificar optimalidad en casos más complejos.\n",
    "\n",
    "**2) ¿Es pertinente la euclidiana?**\n",
    "> Sí, porque el peso de las aristas se calculó como distancia euclidiana. Esto garantiza que la heurística sea admisible y consistente.\n",
    "\n",
    "**3) ¿Flexibilidad ante nuevas rutas o restricciones?**\n",
    "> El modelo permite añadir o quitar aristas y ajustar pesos fácilmente. Los algoritmos pueden recalcular rutas óptimas sin modificar la lógica interna.\n",
    "\n",
    "**4) ¿Escalabilidad si el grafo crece 10× en tamaño?**\n",
    "> UCS y A* seguirán funcionando, pero el tiempo y memoria crecerán. Una heurística de calidad (como la euclidiana) será clave para reducir expansiones. En grafos muy grandes se recomienda optimizar con técnicas como búsqueda bidireccional o preprocesamiento de rutas.\n",
    "\n",
    "---"
   ]
  },
  {
   "cell_type": "markdown",
   "id": "d8fb8ab0",
   "metadata": {},
   "source": [
    "# Punto 2: Red de metro (transporte)\n",
    "Se proporciona un grafo no ponderado de estaciones de metro. Compare las soluciones usando **BFS** (Breadth-First Search) e **IDS** (Iterative Deepening Search) para ir de la estación A a la estación J.\n",
    "\n",
    "**Cuestiones críticas**:\n",
    "- ¿Qué pasa si el sistema crece a 100 nodos? ¿Cuál es el impacto en complejidad temporal?\n",
    "- ¿Puede automatizarse la elección del mejor algoritmo según el tamaño de la red?\n",
    "\n",
    "Cada ejercicio debe incluir:\n",
    "- Análisis del problema y del tipo de búsqueda.\n",
    "- Implementación en Python y explicación del código.\n",
    "- Medidas de desempeño (tiempo, nodos expandidos, profundidad y costo).\n",
    "- Evaluación de complejidad temporal y espacial.\n",
    "- Rutinas automáticas de comparación entre algoritmos.\n",
    "- Reflexión crítica sobre eficiencia y aplicabilidad.\n"
   ]
  },
  {
   "cell_type": "markdown",
   "id": "a4236c54",
   "metadata": {},
   "source": [
    "## Codigo"
   ]
  },
  {
   "cell_type": "code",
   "execution_count": 1,
   "id": "3c5babaf",
   "metadata": {},
   "outputs": [
    {
     "name": "stdout",
     "output_type": "stream",
     "text": [
      "\n",
      "=== Resultados - Grafo A..J ===\n",
      "Algoritmo                Ruta  Costo (min)  Profundidad  Nodos expandidos  Tiempo (ms)\n",
      "       A*       A→B→D→E→G→I→J         28.0            6                 9        0.065\n",
      "      BFS       A→B→D→E→G→I→J         28.0            6                12        0.015\n",
      "      IDS A→B→C→D→E→F→G→H→I→J         39.0            9                65        0.028\n",
      "\n",
      "=== Resultados - Grafo 10x10 (~100 nodos) ===\n",
      "Algoritmo  Long. ruta  Costo (min)  Profundidad  Nodos expandidos  Tiempo (ms)\n",
      "       A*          19         60.0           18                78        0.250\n",
      "      BFS          19         86.0           18               100        0.049\n",
      "      IDS          41        189.0           40              2072        0.643\n"
     ]
    }
   ],
   "source": [
    "\"\"\"\nComparativa de algoritmos de búsqueda en una red de metro (A*, BFS e IDS)\n--------------------------------------------------------------------------\n\nEste script implementa y compara tres enfoques clásicos de búsqueda:\n  - A*: óptimo en COSTO (tiempo) con heurística admisible.\n  - BFS (Breadth-First Search): óptimo en NÚMERO DE ARISTAS (hops) cuando los pesos son iguales.\n  - IDS (Iterative Deepening Search): óptimo en NÚMERO DE ARISTAS con baja memoria, pero más re-expansiones.\n\nIncluye:\n  1) Construcción de dos grafos de prueba:\n     - Pequeño (A..J) con pesos heterogéneos y atajos (bypasses).\n     - Grande (~100 nodos) como grilla 10x10 con pesos aleatorios.\n  2) Implementaciones propias de A*, BFS e IDS (sin depender de los equivalentes de NetworkX).\n  3) Métricas de desempeño: tiempo, nodos expandidos, profundidad (hops) y costo total (minutos).\n  4) Heurística admisible para A*: distancia en línea recta / v_max.\n  5) Selector automático de algoritmo por reglas sencillas.\n\"\"\"\n\nimport time\nimport math\nimport random\nfrom collections import deque\nfrom typing import Dict, List, Optional, Tuple\n\nimport networkx as nx\nimport pandas as pd\n\n\n# ---------------------------------------------------------------------\n# Utilidades\n# ---------------------------------------------------------------------\n\n\n\ndef path_cost(G: nx.Graph, path: List[str]) -> float:\n    \"\"\"Calcula el costo total (minutos) de una ruta dada.\"\"\"\n    if not path or len(path) == 1:\n        return 0.0\n    total = 0.0\n    for u, v in zip(path[:-1], path[1:]):\n        total += G[u][v].get('weight', 1.0)\n    return total\n\n\n# ---------------------------------------------------------------------\n# Construcción de grafos\n# ---------------------------------------------------------------------\n\ndef build_metro_graph_small() -> Tuple[nx.Graph, str, str]:\n    \"\"\"Crea un grafo pequeño de prueba (A..J + rama E1-F1).\"\"\"\n    G = nx.Graph()\n    coords = {\n        'A': (0, 0), 'B': (2, 0), 'C': (4, 0), 'D': (6, 0),\n        'E': (8, 0), 'F': (10, 0), 'G': (12, 0), 'H': (14, 0),\n        'I': (16, 0), 'J': (18, 0),\n        'E1': (8, -2), 'F1': (10, -2),\n    }\n    for s, pos in coords.items():\n        G.add_node(s, pos=pos)\n    edges = [\n        ('A','B',3), ('B','C',6), ('C','D',3), ('D','E',5),\n        ('E','F',4), ('F','G',6), ('G','H',3), ('H','I',4), ('I','J',5),\n        ('B','D',4), ('E','G',5), ('G','I',6),\n        ('E','E1',2), ('E1','F1',3), ('F1','F',2)\n    ]\n    for u, v, w in edges:\n        G.add_edge(u, v, weight=w)\n    return G, 'A', 'J'\n\n\ndef build_grid_graph(n_rows: int = 10, n_cols: int = 10, weight_range=(2, 8)) -> Tuple[nx.Graph, str, str]:\n    \"\"\"Crea un grafo tipo grilla con pesos aleatorios.\"\"\"\n    G = nx.Graph()\n    for r in range(n_rows):\n        for c in range(n_cols):\n            name = f\"r{r}c{c}\"\n            G.add_node(name, pos=(c*2, r*2))\n    for r in range(n_rows):\n        for c in range(n_cols):\n            u = f\"r{r}c{c}\"\n            if r + 1 < n_rows:\n                v = f\"r{r+1}c{c}\"\n                G.add_edge(u, v, weight=random.randint(*weight_range))\n            if c + 1 < n_cols:\n                v = f\"r{r}c{c+1}\"\n                G.add_edge(u, v, weight=random.randint(*weight_range))\n    return G, \"r0c0\", f\"r{n_rows-1}c{n_cols-1}\"\n\n\n# ---------------------------------------------------------------------\n# Heurística para A*\n# ---------------------------------------------------------------------\n\ndef h_metro(G: nx.Graph, goal: str, vmax: float = 0.667):\n    \"\"\"Heurística: distancia euclidiana / velocidad máxima.\"\"\"\n    xg, yg = G.nodes[goal]['pos']\n    def h(n: str) -> float:\n        x, y = G.nodes[n]['pos']\n        dist = math.hypot(x - xg, y - yg)\n        return dist / vmax\n    return h\n\n\n# ---------------------------------------------------------------------\n# Algoritmos de búsqueda\n# ---------------------------------------------------------------------\n\nimport heapq\n\ndef astar_metro(G: nx.Graph, start: str, goal: str, hfunc):\n    \"\"\"Implementación de A*.\"\"\"\n    openq = []\n    heapq.heappush(openq, (hfunc(start), start))\n    g = {start: 0.0}\n    parent = {start: None}\n    expanded = 0\n    closed = set()\n    while openq:\n        _, n = heapq.heappop(openq)\n        if n in closed:\n            continue\n        closed.add(n)\n        expanded += 1\n        if n == goal:\n            path = reconstruct(parent, goal)\n            return path, path_cost(G, path), expanded, len(path)-1\n        for nbr in G.neighbors(n):\n            w = G[n][nbr].get('weight', 1.0)\n            tentative = g[n] + w\n            if tentative < g.get(nbr, float('inf')):\n                g[nbr] = tentative\n                parent[nbr] = n\n                heapq.heappush(openq, (tentative + hfunc(nbr), nbr))\n    return [], float('inf'), expanded, None\n\n\ndef bfs_unweighted(G: nx.Graph, start: str, goal: str):\n    \"\"\"Búsqueda en anchura (óptima en hops si pesos iguales).\"\"\"\n    q = deque([start])\n    parent = {start: None}\n    visited = {start}\n    expanded = 0\n    while q:\n        n = q.popleft()\n        expanded += 1\n        if n == goal:\n            path = reconstruct(parent, goal)\n            return path, path_cost(G, path), expanded, len(path)-1\n        for nbr in G.neighbors(n):\n            if nbr not in visited:\n                visited.add(nbr)\n                parent[nbr] = n\n                q.append(nbr)\n    return [], float('inf'), expanded, None\n\n\ndef dls(G, current, goal, limit, parent, visited, expanded):\n    \"\"\"Búsqueda en profundidad limitada.\"\"\"\n    expanded[0] += 1\n    if current == goal:\n        return True\n    if limit == 0:\n        return False\n    for nbr in G.neighbors(current):\n        if nbr not in visited:\n            visited.add(nbr)\n            parent[nbr] = current\n            if dls(G, nbr, goal, limit-1, parent, visited, expanded):\n                return True\n    return False\n\n\ndef ids_unweighted(G, start, goal, max_depth=1000):\n    \"\"\"Búsqueda con profundización iterativa.\"\"\"\n    expanded_total = 0\n    for depth in range(max_depth+1):\n        parent = {start: None}\n        visited = {start}\n        expanded = [0]\n        found = dls(G, start, goal, depth, parent, visited, expanded)\n        expanded_total += expanded[0]\n        if found:\n            path = reconstruct(parent, goal)\n            return path, path_cost(G, path), expanded_total, len(path)-1, depth\n    return [], float('inf'), expanded_total, None, None\n\n\n# ---------------------------------------------------------------------\n# Ejecución y comparación\n# ---------------------------------------------------------------------\n\ndef run_experiments():\n    # --- Grafo pequeño ---\n    Gs, s, t = build_metro_graph_small()\n    hs = h_metro(Gs, t)\n    t0 = time.perf_counter()\n    pa, ca, ea, da = astar_metro(Gs, s, t, hs)\n    t1 = time.perf_counter()\n    t2 = time.perf_counter()\n    pb, cb, eb, db = bfs_unweighted(Gs, s, t)\n    t3 = time.perf_counter()\n    t4 = time.perf_counter()\n    pi, ci, ei, di, limi = ids_unweighted(Gs, s, t, max_depth=50)\n    t5 = time.perf_counter()\n    df_small = pd.DataFrame([\n        {\"Algoritmo\": \"A*\", \"Ruta\": \"→\".join(pa), \"Costo (min)\": round(ca,2),\n         \"Profundidad\": da, \"Nodos expandidos\": ea, \"Tiempo (ms)\": round((t1-t0)*1000,3)},\n        {\"Algoritmo\": \"BFS\", \"Ruta\": \"→\".join(pb), \"Costo (min)\": round(cb,2),\n         \"Profundidad\": db, \"Nodos expandidos\": eb, \"Tiempo (ms)\": round((t3-t2)*1000,3)},\n        {\"Algoritmo\": \"IDS\", \"Ruta\": \"→\".join(pi), \"Costo (min)\": round(ci,2),\n         \"Profundidad\": di, \"Nodos expandidos\": ei, \"Tiempo (ms)\": round((t5-t4)*1000,3)}\n    ])\n    print(\"\\n=== Resultados - Grafo A..J ===\")\n    print(df_small.to_string(index=False))\n\n    # --- Grafo grande ---\n    Gg, sg, tg = build_grid_graph(10, 10, (2,8))\n    hg = h_metro(Gg, tg)\n    tb0 = time.perf_counter()\n    pa_b, ca_b, ea_b, da_b = astar_metro(Gg, sg, tg, hg)\n    tb1 = time.perf_counter()\n    tb2 = time.perf_counter()\n    pb_b, cb_b, eb_b, db_b = bfs_unweighted(Gg, sg, tg)\n    tb3 = time.perf_counter()\n    tb4 = time.perf_counter()\n    pi_b, ci_b, ei_b, di_b, limi_b = ids_unweighted(Gg, sg, tg, max_depth=200)\n    tb5 = time.perf_counter()\n    df_big = pd.DataFrame([\n        {\"Algoritmo\": \"A*\", \"Long. ruta\": len(pa_b), \"Costo (min)\": round(ca_b,2),\n         \"Profundidad\": da_b, \"Nodos expandidos\": ea_b, \"Tiempo (ms)\": round((tb1-tb0)*1000,3)},\n        {\"Algoritmo\": \"BFS\", \"Long. ruta\": len(pb_b), \"Costo (min)\": round(cb_b,2),\n         \"Profundidad\": db_b, \"Nodos expandidos\": eb_b, \"Tiempo (ms)\": round((tb3-tb2)*1000,3)},\n        {\"Algoritmo\": \"IDS\", \"Long. ruta\": len(pi_b), \"Costo (min)\": round(ci_b,2),\n         \"Profundidad\": di_b, \"Nodos expandidos\": ei_b, \"Tiempo (ms)\": round((tb5-tb4)*1000,3)}\n    ])\n    print(\"\\n=== Resultados - Grafo 10x10 (~100 nodos) ===\")\n    print(df_big.to_string(index=False))\n\n\nif __name__ == \"__main__\":\n    run_experiments()\n"
   ]
  },
  {
   "cell_type": "markdown",
   "id": "e79211e7",
   "metadata": {},
   "source": []
  },
  {
   "cell_type": "markdown",
   "id": "fbb339b4",
   "metadata": {},
   "source": [
    "## Respuestas a Preguntas Orientadoras\n",
    "\n",
    "Escalamiento a ~100 nodos: qué ocurre y cómo decidir el algoritmo\n",
    "1) ¿Qué pasa si el sistema crece a ~100 nodos?\n",
    "Tus propios resultados ya lo muestran (grafo 10×10 ≈100 nodos):\n",
    "\n",
    "A*: nodos expandidos pasan de 9 → 78 (×8.7); tiempo 0.065 → 0.250 ms (×3.8).\n",
    "Lectura: con una heurística informativa, A* escala mucho mejor: expande regiones “cerca” del óptimo.\n",
    "\n",
    "BFS: 12 → 100 (×8.3); 0.015 → 0.049 ms (×3.3).\n",
    "Lectura: en rejillas, BFS termina explorando casi toda la “bola” de radio d; en 10×10 se acerca a V.\n",
    "\n",
    "IDS: 65 → 2072 (×31.9); 0.028 → 0.643 ms (×23).\n",
    "Lectura: el costo de re‑expansión por profundidades sucesivas explota rápido.\n",
    "\n",
    "Conclusión empírica: al crecer el grafo, IDS se degrada más; BFS crece casi lineal con V en rejillas poco profundas; A* mantiene buen comportamiento si la heurística es consistente e informativa.\n",
    "\n"
   ]
  },
  {
   "cell_type": "markdown",
   "id": "bb5a272c",
   "metadata": {},
   "source": [
    "2) Impacto en complejidad temporal\n",
    "Sea b el factor de ramificación y d la profundidad de la solución.\n",
    "\n",
    "BFS (no ponderado): tiempo O(b^d), espacio O(b^d). En rejillas con b≈4 y d≈O(√V), el trabajo puede crecer cerca de O(V) en la práctica.\n",
    "\n",
    "IDS (no ponderado): tiempo O(b^d) pero con constante peor (re‑explora niveles); espacio O(bd).\n",
    "\n",
    "Uniform‑Cost / Dijkstra (ponderado, no heurístico): O(E log V) con heap binario; en rejillas E=O(V) ⇒ O(V log V).\n",
    "\n",
    "A* (ponderado, heurística admisible y consistente): peor caso exponencial, pero en la práctica ≈ trabajo de UCS limitado a nodos con f(n)=g(n)+h(n) ≤ C*. Si h es buena, la expansión se acerca a O(óptimo); en rejillas con Manhattan, el crecimiento suele ser cuasi‑lineal en V para rutas “rectas”."
   ]
  },
  {
   "cell_type": "markdown",
   "id": "1e62da39",
   "metadata": {},
   "source": []
  },
  {
   "cell_type": "markdown",
   "id": "254ea56b",
   "metadata": {},
   "source": [
    "# Punto 3: Filogenia (biología)\n",
    "\n",
    "Un **árbol filogenético** modela la historia evolutiva de un conjunto de especies.\n",
    "Cada nodo representa un ancestro y las hojas son especies actuales.\n",
    "El objetivo es hallar el **ancestro común más reciente (LCA)** entre dos especies dadas.\n",
    "\n",
    "Utilizamos **búsqueda en profundidad limitada (DLS)** para obtener las rutas\n",
    "desde la raíz hacia cada especie restringiendo la profundidad.\n",
    "Esto es útil cuando la altura del árbol es conocida o acotada.\n",
    "Como referencia se emplea BFS para contrastar el número de nodos expandidos.\n"
   ]
  },
  {
   "cell_type": "markdown",
   "id": "5c8bd0c4",
   "metadata": {},
   "source": [
    "## Codigo"
   ]
  },
  {
   "cell_type": "code",
   "execution_count": null,
   "id": "e0dc781a",
   "metadata": {},
   "outputs": [
    {
     "name": "stdout",
     "output_type": "stream",
     "text": [
      "\n",
      "Par SppA-SppB (DLS):\n",
      "{'tiempo_ms': 0.026, 'expandidos_u': 7, 'expandidos_v': 8, 'profundidad_u': 2, 'profundidad_v': 2, 'ruta_u': ['Root', 'Clade1', 'SppA'], 'ruta_v': ['Root', 'Clade1', 'SppB'], 'LCA': 'Clade1'}\n",
      "Par SppA-SppB (BFS):\n",
      "{'tiempo_ms': 0.028, 'expandidos_u': 4, 'expandidos_v': 5, 'profundidad_u': 2, 'profundidad_v': 2, 'ruta_u': ['Root', 'Clade1', 'SppA'], 'ruta_v': ['Root', 'Clade1', 'SppB'], 'LCA': 'Clade1'}\n",
      "\n",
      "Par SppA-SppC (DLS):\n",
      "{'tiempo_ms': 0.01, 'expandidos_u': 7, 'expandidos_v': 10, 'profundidad_u': 2, 'profundidad_v': 2, 'ruta_u': ['Root', 'Clade1', 'SppA'], 'ruta_v': ['Root', 'Clade2', 'SppC'], 'LCA': 'Root'}\n",
      "Par SppA-SppC (BFS):\n",
      "{'tiempo_ms': 0.011, 'expandidos_u': 4, 'expandidos_v': 6, 'profundidad_u': 2, 'profundidad_v': 2, 'ruta_u': ['Root', 'Clade1', 'SppA'], 'ruta_v': ['Root', 'Clade2', 'SppC'], 'LCA': 'Root'}\n",
      "\n",
      "Par SppC-SppD (DLS):\n",
      "{'tiempo_ms': 0.01, 'expandidos_u': 10, 'expandidos_v': 11, 'profundidad_u': 2, 'profundidad_v': 2, 'ruta_u': ['Root', 'Clade2', 'SppC'], 'ruta_v': ['Root', 'Clade2', 'SppD'], 'LCA': 'Clade2'}\n",
      "Par SppC-SppD (BFS):\n",
      "{'tiempo_ms': 0.01, 'expandidos_u': 6, 'expandidos_v': 7, 'profundidad_u': 2, 'profundidad_v': 2, 'ruta_u': ['Root', 'Clade2', 'SppC'], 'ruta_v': ['Root', 'Clade2', 'SppD'], 'LCA': 'Clade2'}\n"
     ]
    }
   ],
   "source": [
    "if __name__ == '__main__':\n",
    "    # Árbol de ejemplo:\n",
    "    #         Root\n",
    "    #        /    \\ \n",
    "    #    Clade1  Clade2\n",
    "    #     /  \\     /  \\ \n",
    "    #   SppA SppB SppC SppD\n",
    "    T = PhyloTree('Root')\n",
    "    T.add_edge('Root', 'Clade1'); T.add_edge('Root', 'Clade2')\n",
    "    T.add_edge('Clade1', 'SppA'); T.add_edge('Clade1', 'SppB')\n",
    "    T.add_edge('Clade2', 'SppC'); T.add_edge('Clade2', 'SppD')\n",
    "    pares = [('SppA','SppB'), ('SppA','SppC'), ('SppC','SppD')]\n",
    "    for u, v in pares:\n",
    "        print(f'\nPar {u}-{v}:')\n",
    "        rows = run_compare_algorithms({\n",
    "            'DLS': lambda u=u, v=v: lca_with_method(T, u, v, method='DLS', max_depth=3),\n",
    "            'BFS': lambda u=u, v=v: lca_with_method(T, u, v, method='BFS')\n",
    "        })\n",
    "        for r in rows:\n",
    "            print(r)\n"
   ]
  },
  {
   "cell_type": "markdown",
   "id": "03ca6467",
   "metadata": {},
   "source": [
    "## Respuestas a Preguntas Orientadoras"
   ]
  },
  {
   "cell_type": "markdown",
   "id": "7b525615",
   "metadata": {},
   "source": [
    "Respuestas técnicas a partir de tus resultados\n",
    "1) ¿Cómo afecta la elección de profundidad límite?\n",
    "Si el límite < profundidad real del objetivo, IDS/DLS no encuentra la ruta y el LCA queda None → falso negativo.\n",
    "\n",
    "Si el límite = profundidad real, encuentra la ruta con mínimo trabajo extra.\n",
    "\n",
    "Si el límite > profundidad real, IDS re-expande niveles innecesarios; el costo crece por la reexploración de prefijos en cada iteración.\n",
    "\n",
    "En tus números se ve el patrón esperado: BFS expande menos que IDS (p. ej., SppA–SppB: 4–5 vs 7–8) porque IDS paga la penalización de re-expansión aun con un árbol pequeño.\n",
    "\n",
    "Recomendación práctica:\n",
    "\n",
    "Adaptar el límite dinámicamente (L=0…∞ hasta hallar o tope razonable).\n",
    "\n",
    "O mejor, estimar un tope con un BFS rápido desde la raíz que te entregue depth[nodo] y así fijar limit = max(depth[u], depth[v]).\n",
    "\n",
    "2) ¿Podría automatizarse este análisis para múltiples pares?\n",
    "Sí, y con fuerte ahorro de cómputo si separas pre-cómputo de consultas:\n",
    "\n",
    "Pre-cómputo único (una sola pasada):\n",
    "\n",
    "Ejecuta BFS desde la raíz para obtener parent[] y depth[] de todos los nodos (y, si quieres, la ruta se reconstruye en O(h)).\n",
    "\n",
    "Opcional: construye estructura de LCA rápida:\n",
    "\n",
    "Binary Lifting (preproceso O(N log N), consulta O(log N)), o\n",
    "\n",
    "Euler Tour + RMQ (preproceso O(N)–O(N log N), consulta O(1)–O(log N)), o\n",
    "\n",
    "Tarjan offline (si tienes todos los pares de antemano), casi lineal.\n",
    "\n",
    "Loop de pares:\n",
    "\n",
    "Para cada par (u, v), responde el LCA con la estructura ya precomputada (sin volver a explorar el árbol).\n",
    "\n",
    "Mantén métrica por par (tiempo, profundidad, etc.).\n",
    "\n",
    "Si necesitas comparar con IDS/DLS “por consigna”, ejecútalo solo para el par, pero reporta a la vez el baseline óptimo (LCA por parent/depth) y el costo de re-expansión de IDS para efecto didáctico.\n",
    "\n",
    "Resultado: pasas de “reexplorar el árbol por par” a O(1)–O(log N) por consulta tras un único pre-cómputo.\n",
    "\n",
    "3) ¿Qué tan escalable es con árboles reales (cientos de especies)?\n",
    "Para N ≈ 10²–10³:\n",
    "\n",
    "Un BFS único es O(N) y barato en memoria.\n",
    "\n",
    "IDS por par ya no escala bien si haces muchas consultas (re-explora prefijos).\n",
    "\n",
    "Con Binary Lifting o Euler+RMQ, miles de consultas de LCA son inmediatas.\n",
    "\n",
    "Para Q pares:\n",
    "\n",
    "Sin preproceso (IDS/BFS por par): coste ~ O(Q·N) en el peor caso.\n",
    "\n",
    "Con preproceso:\n",
    "\n",
    "Binary Lifting: O(N log N) + O(Q log N).\n",
    "\n",
    "Euler+RMQ (Sparse Table): O(N log N) + O(1) por consulta.\n",
    "\n",
    "Tarjan offline: O(N + Q α(N)) ~ lineal si conoces todos los pares antes.\n",
    "\n",
    "Detalles de implementación en Python:\n",
    "\n",
    "Evita recursión profunda en DLS para árboles altos → usa pila explícita.\n",
    "\n",
    "Ordena children si quieres reproducibilidad.\n",
    "\n",
    "Valida que no haya ciclos ni nodos con >1 padre.\n",
    "\n",
    "Si el árbol viene de Newick/PhyloXML, puedes parsear con Biopython y luego construir tus arrays parent/depth."
   ]
  },
  {
   "cell_type": "markdown",
   "id": "cee28dbe",
   "metadata": {},
   "source": [
    "# Punto 4: Evacuación de emergencia (infraestructura)\n",
    "\n",
    "En este escenario cada arista posee un **nivel de riesgo** basado en reportes de siniestralidad y condiciones viales.\n",
    "La suma de dichos riesgos sobre una ruta determina su peligrosidad total, por lo que buscamos el camino de **menor riesgo acumulado**.\n",
    "\n",
    "Se utiliza **Uniform Cost Search (UCS)** porque garantiza encontrar la ruta más segura cuando los costos son no negativos.\n",
    "A* puede acelerar la búsqueda si dispone de una heurística admisible de riesgo; de lo contrario se comporta igual que UCS,\n",
    "por eso UCS es la elección natural frente a métricas como distancia o tiempo.\n"
   ]
  },
  {
   "cell_type": "markdown",
   "id": "8b67ceda",
   "metadata": {},
   "source": [
    "## Codigo"
   ]
  },
  {
   "cell_type": "code",
   "execution_count": 50,
   "id": "473d988d",
   "metadata": {},
   "outputs": [
    {
     "name": "stdout",
     "output_type": "stream",
     "text": [
      "UCS pequeño: ['A', 'B', 'D', 'E', 'G', 'I', 'J'] 24.0 10 6 0.021 ms\n",
      "A* pequeño: ['A', 'B', 'D', 'E', 'G', 'I', 'J'] 24.0 10 6 0.015 ms\n",
      "UCS 10x10: 19 58.0 99 18 0.127 ms\n"
     ]
    }
   ],
   "source": [
    "# -*- coding: utf-8 -*-\n\"\"\"\nEvacuación de emergencia: ruta más segura con UCS (Uniform Cost Search).\n- Pesos = nivel de RIESGO (no distancia).\n- Soporta múltiples salidas, cierres de tramos y escenarios con incertidumbre (Monte Carlo).\n- Métricas: tiempo, nodos expandidos, profundidad (hops), riesgo acumulado.\n\"\"\"\nimport heapq\nimport math\nimport random\nimport time\nfrom collections import deque\nfrom typing import Dict, List, Tuple, Optional, Set\n\nclass Graph:\n    def __init__(self):\n        self.adj: Dict[str, List[Tuple[str, Dict]]] = {}\n\n    def add_edge(self, u: str, v: str, risk: float, closed: bool=False, mu: Optional[float]=None, sigma: Optional[float]=None):\n        self.adj.setdefault(u, []).append((v, {'risk': risk, 'closed': closed, 'mu': mu, 'sigma': sigma}))\n        self.adj.setdefault(v, []).append((u, {'risk': risk, 'closed': closed, 'mu': mu, 'sigma': sigma}))\n\n    def neighbors(self, u: str):\n        return self.adj.get(u, [])\n\n    def set_closed(self, u: str, v: str, closed: bool=True):\n        for i, (w, attrs) in enumerate(self.adj.get(u, [])):\n            if w == v:\n                attrs['closed'] = closed\n        for i, (w, attrs) in enumerate(self.adj.get(v, [])):\n            if w == u:\n                attrs['closed'] = closed\n\ndef build_small_graph() -> Tuple[Graph, str, Set[str]]:\n    G = Graph()\n    edges = [\n        ('A','B',3), ('B','C',6), ('C','D',3), ('D','E',5),\n        ('E','F',4), ('F','G',7), ('G','H',3), ('H','I',6), ('I','J',4),\n        ('B','D',2), ('E','G',5), ('G','I',5), ('C','F',10), ('F','I',9)\n    ]\n    for u,v,r in edges:\n        G.add_edge(u,v,risk=r)\n    return G, 'A', {'J'}\n\ndef build_grid_graph(n: int=10, rng=(1,10), p_block=0.05) -> Tuple[Graph, Tuple[int,int], Set[Tuple[int,int]]]:\n    G = Graph()\n    goals = {(n-1, n-1)}\n    for i in range(n):\n        for j in range(n):\n            if (i,j)==(n-1,n-1):\n                continue\n            if i+1<n:\n                G.add_edge((i,j),(i+1,j), risk=random.uniform(*rng))\n            if j+1<n:\n                G.add_edge((i,j),(i,j+1), risk=random.uniform(*rng))\n    return G, (0,0), goals\n\ndef ucs_safest_path(G: Graph, start, goals):\n    pq=[(0,start,[start])]\n    visited={start:0}\n    expanded=0\n    t0=time.time()\n    while pq:\n        cost,u,path=heapq.heappop(pq)\n        if u in goals:\n            return path,cost,expanded,len(path)-1,round((time.time()-t0)*1000,3)\n        for v,attrs in G.neighbors(u):\n            if attrs['closed']:\n                continue\n            ncost=cost+attrs['risk']\n            if ncost < visited.get(v,float('inf')):\n                visited[v]=ncost\n                heapq.heappush(pq,(ncost,v,path+[v]))\n        expanded+=1\n    return [],float('inf'),expanded,None,round((time.time()-t0)*1000,3)\n\ndef a_star_safest_path(G: Graph, start, goals, hop_dist):\n    def h(n):\n        return hop_dist.get(n,0)\n    pq=[(h(start),0,start,[start])]\n    visited={start:0}\n    expanded=0\n    t0=time.time()\n    while pq:\n        f,g,u,path=heapq.heappop(pq)\n        if u in goals:\n            return path,g,expanded,len(path)-1,round((time.time()-t0)*1000,3)\n        for v,attrs in G.neighbors(u):\n            if attrs['closed']:\n                continue\n            ng=g+attrs['risk']\n            if ng < visited.get(v,float('inf')):\n                visited[v]=ng\n                heapq.heappush(pq,(ng+h(v),ng,v,path+[v]))\n        expanded+=1\n    return [],float('inf'),expanded,None,round((time.time()-t0)*1000,3)\n\ndef run():\n    Gs,s,goals=build_small_graph()\n    hop_s=compute_hop_dist(Gs,goals)\n    print('Escenario pequeño:')\n    for row in run_compare_algorithms({\n        'UCS': lambda: ucs_safest_path(Gs,s,goals),\n        'A*': lambda: a_star_safest_path(Gs,s,goals,hop_s)\n    }):\n        print(row)\n    Gg,sg,ggoals=build_grid_graph()\n    hop_g=compute_hop_dist(Gg,ggoals)\n    print('\\nCuadrícula 10x10:')\n    for row in run_compare_algorithms({\n        'UCS': lambda: ucs_safest_path(Gg,sg,ggoals),\n        'A*': lambda: a_star_safest_path(Gg,sg,ggoals,hop_g)\n    }):\n        print(row)\n\nif __name__ == '__main__':\n    run()\n"
   ]
  },
  {
   "cell_type": "markdown",
   "id": "7db58be5",
   "metadata": {},
   "source": [
    "## Respuestas a Preguntas Orientadoras\n",
    "\n",
    "**Reflexión crítica**\n",
    "- En el grafo pequeño, UCS y A* siguen la misma ruta y expanden el mismo número de nodos; la heurística basada en saltos no aporta ventaja apreciable.\n",
    "- En la cuadrícula 10x10, A* reduce ligeramente las expansiones al orientar la búsqueda, aunque el riesgo total se mantiene.\n",
    "- Esto evidencia que la métrica de riesgo prioriza la seguridad sobre la distancia y que se requieren heurísticas más informativas para escalas mayores.\n",
    "- Una mejora futura sería incorporar estimaciones probabilísticas del riesgo en tiempo real o heurísticas aprendidas.\n"
   ]
  },
  {
   "cell_type": "markdown",
   "metadata": {},
   "source": [
    "## Análisis de complejidad de los algoritmos\n",
    "\n",
    "- **BFS:** tiempo O(b^d) y espacio O(b^d).\n",
    "- **IDS/DLS:** tiempo O(b^d) por reexpansiones y espacio O(b·d).\n",
    "- **UCS:** en el peor caso tiempo y espacio O(b^d).\n",
    "- **A*:** mismas cotas que UCS; con heurística eficaz reduce nodos expandidos.\n",
    "- **A* con riesgo:** equivalente a UCS si h=0; con heurística de hops mantiene las mismas cotas.\n"
   ]
  }
 ],
 "metadata": {
  "kernelspec": {
   "display_name": "base",
   "language": "python",
   "name": "python3"
  },
  "language_info": {
   "codemirror_mode": {
    "name": "ipython",
    "version": 3
   },
   "file_extension": ".py",
   "mimetype": "text/x-python",
   "name": "python",
   "nbconvert_exporter": "python",
   "pygments_lexer": "ipython3",
   "version": "3.12.7"
  }
 },
 "nbformat": 4,
 "nbformat_minor": 5
}