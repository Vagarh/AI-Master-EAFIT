{
 "cells": [
  {
   "cell_type": "markdown",
   "id": "ce4ce037",
   "metadata": {},
   "source": []
  },
  {
   "cell_type": "markdown",
   "id": "5bd5f3b1",
   "metadata": {},
   "source": [
    "## Taller N°1 : Aplicacion de Algoritmos de B´usqueda\n",
    "\n",
    "* Profesor: Jorge Ivan Padilla Buritica\n",
    "* Estudiante: Juan Felipe Cardona Arango \n",
    "* Maestria en Ciencia de Datos y Analitica\n",
    "* Curso Fundamentos de Inteligencia Artificial\n",
    "* 2025-02\n"
   ]
  },
  {
   "cell_type": "markdown",
   "id": "b7828458",
   "metadata": {},
   "source": [
    "## Preparacion del entorno de trabajo"
   ]
  },
  {
   "cell_type": "code",
   "execution_count": 1,
   "id": "3753bb50",
   "metadata": {},
   "outputs": [],
   "source": [
    "import math\n",
    "import heapq\n",
    "import time\n",
    "from time import time"
   ]
  },
  {
   "cell_type": "markdown",
   "id": "a26088b2",
   "metadata": {},
   "source": [
    "# Punto 1:Optimizacion de rutas rurales (Logistica)"
   ]
  },
  {
   "cell_type": "markdown",
   "id": "f6099fc8",
   "metadata": {},
   "source": [
    "## Pregunta orientadora\n",
    "**¿Cómo llego del nodo de inicio al nodo final gastando lo menos posible?**\n",
    "\n",
    "---\n",
    "\n",
    "## Algoritmos usados\n",
    "- **UCS (Búsqueda de Costo Uniforme)**: explora rutas siempre expandiendo el camino más barato encontrado hasta ahora. Garantiza el camino óptimo si los pesos son positivos.\n",
    "- **A***: es parecido a UCS, pero usa una **heurística** que le da una idea de qué tan cerca está del destino. Esto le permite ser más rápido sin perder la exactitud si la heurística está bien diseñada.\n",
    "\n",
    "---\n",
    "\n",
    "## ¿Qué es la heurística?\n",
    "Una heurística es una **estimación** del costo que falta para llegar al destino. Por ejemplo, si conocemos las coordenadas de cada punto, podemos usar la **distancia en línea recta** (distancia euclidiana) como estimación.\n",
    "\n",
    "> Si la línea recta siempre es igual o menor que cualquier ruta real, no se sobreestima el costo y A* seguirá encontrando la mejor ruta.\n",
    "\n",
    "---\n",
    "\n",
    "## Solución propuesta\n",
    "1. Representar el mapa como un grafo con nodos, conexiones y pesos.\n",
    "2. Elegir el nodo inicial y el nodo destino.\n",
    "3. Seleccionar el algoritmo (UCS o A*) y, si es A*, definir la heurística.\n",
    "4. Explorar el grafo paso a paso, comparando costos acumulados.\n",
    "5. Cuando se llega al destino, devolver el camino encontrado y su costo total.\n",
    "\n",
    "---\n",
    "\n",
    "## Medición\n",
    "Para evaluar un algoritmo no basta con que encuentre el camino óptimo; también importa **el esfuerzo que le costó encontrarlo**.\n",
    "\n",
    "Por eso medimos:\n",
    "- **Costo total** del camino encontrado.\n",
    "- **Nodos expandidos** durante la búsqueda.\n",
    "- **Profundidad** de la solución (número de pasos o aristas).\n",
    "- **Tiempo de ejecución** (en milisegundos).\n",
    "\n"
   ]
  },
  {
   "cell_type": "markdown",
   "id": "ca1663ce",
   "metadata": {},
   "source": [
    "## Pseudocodigo"
   ]
  },
  {
   "cell_type": "markdown",
   "id": "00c3e20d",
   "metadata": {},
   "source": [
    "### UCS"
   ]
  },
  {
   "cell_type": "markdown",
   "id": "f78ed8b2",
   "metadata": {},
   "source": [
    "Entrada: grafo G, inicio s, objetivo t, función de costo w(u,v) > 0\n",
    "Salida: camino óptimo s→t (si existe) y su costo g*(t)\n",
    "\n",
    "1  open ← PriorityQueue()                      // Cola por costo acumulado g(n)\n",
    "2  open.push(s, key=0)\n",
    "3  g[s] ← 0                                     // Costo al inicio es 0\n",
    "4  parent[s] ← None                             // Para reconstruir el camino\n",
    "5  depth[s] ← 0\n",
    "6  visited ← ∅                                  // Conjunto de nodos ya extraídos (cerrados)\n",
    "7  expanded ← 0                                  // Métrica: conteo de expansiones\n",
    "8  while open ≠ ∅:\n",
    "9      (n, _) ← open.pop_min()                  // Extraer nodo con menor g(n)\n",
    "10     if n ∈ visited:                          // Si ya fue cerrado, saltar\n",
    "11         continue\n",
    "12     visited ← visited ∪ {n}\n",
    "13     expanded ← expanded + 1\n",
    "14     if n == t:                                // ¡Objetivo alcanzado!\n",
    "15         return Reconstruir(parent, t), g[t], expanded, depth[t]\n",
    "16     for cada m ∈ neighbors(n):                // Explorar vecinos\n",
    "17         costo_tentativo ← g[n] + w(n,m)       // Relajar arista (n,m)\n",
    "18         if m ∉ g or costo_tentativo < g[m]:   // ¿mejor camino a m?\n",
    "19             g[m] ← costo_tentativo\n",
    "20             parent[m] ← n\n",
    "21             depth[m] ← depth[n] + 1\n",
    "22             open.push_or_decrease(m, key=g[m])\n",
    "23  return ∅, ∞, expanded, -1  \n"
   ]
  },
  {
   "cell_type": "markdown",
   "id": "952b070d",
   "metadata": {},
   "source": [
    "### A* "
   ]
  },
  {
   "cell_type": "markdown",
   "id": "4e40b39e",
   "metadata": {},
   "source": [
    "Entrada: grafo G, inicio s, objetivo t, costo w(u,v) > 0, heurística h(n)\n",
    "Salida: camino óptimo s→t (si h es admisible y consistente) y su costo g*(t)\n",
    "\n",
    "1  open ← PriorityQueue()                       // Cola por f(n)=g(n)+h(n)\n",
    "2  open.push(s, key=h(s))\n",
    "3  g[s] ← 0\n",
    "4  parent[s] ← None\n",
    "5  depth[s] ← 0\n",
    "6  closed ← ∅                                    // Nodos ya expandidos (cerrados)\n",
    "7  expanded ← 0\n",
    "8  while open ≠ ∅:\n",
    "9      (n, _) ← open.pop_min()                   // Extraer el de menor f\n",
    "10     if n ∈ closed:                            // Evitar re-procesar cerrados\n",
    "11         continue\n",
    "12     closed ← closed ∪ {n}\n",
    "13     expanded ← expanded + 1\n",
    "14     if n == t:                                 // Objetivo alcanzado\n",
    "15         return Reconstruir(parent, t), g[t], expanded, depth[t]\n",
    "16     for cada m ∈ neighbors(n):                 // Explorar vecinos\n",
    "17         costo_tentativo ← g[n] + w(n,m)        // Relajar (n,m)\n",
    "18         if m ∉ g or costo_tentativo < g[m]:    // ¿mejor g para m?\n",
    "19             g[m] ← costo_tentativo\n",
    "20             parent[m] ← n\n",
    "21             depth[m] ← depth[n] + 1\n",
    "22             f_m ← g[m] + h(m)                  // Clave f para la cola\n",
    "23             open.push_or_decrease(m, key=f_m)\n",
    "24  return ∅, ∞, expanded, -1"
   ]
  },
  {
   "cell_type": "markdown",
   "id": "c3acc076",
   "metadata": {},
   "source": [
    "## Codigo"
   ]
  },
  {
   "cell_type": "markdown",
   "id": "662329be",
   "metadata": {},
   "source": [
    "## Implementacion"
   ]
  },
  {
   "cell_type": "code",
   "execution_count": 2,
   "id": "de937675",
   "metadata": {},
   "outputs": [],
   "source": [
    "from __future__ import annotations\n",
    "from typing import Dict, Tuple, Callable, List, Any\n",
    "import math\n",
    "import time\n",
    "import heapq\n",
    "import networkx as nx\n"
   ]
  },
  {
   "cell_type": "code",
   "execution_count": 3,
   "id": "c7c4662b",
   "metadata": {},
   "outputs": [],
   "source": [
    "Position = Tuple[float, float]\n",
    "Heuristic = Callable[[Any], float]\n",
    "\n",
    "class PriorityQueue:\n",
    "    def __init__(self):\n",
    "        self._pq = []\n",
    "        self._entry_finder = {}\n",
    "        self._REMOVED = object()\n",
    "        self._counter = 0\n",
    "    def push_or_decrease(self, item, priority: float):\n",
    "        if item in self._entry_finder:\n",
    "            # marca entrada anterior como removida\n",
    "            old = self._entry_finder.pop(item)\n",
    "            old[-1] = self._REMOVED\n",
    "        entry = [priority, self._counter, item]\n",
    "        self._counter += 1\n",
    "        self._entry_finder[item] = entry\n",
    "        heapq.heappush(self._pq, entry)\n",
    "    def pop_min(self):\n",
    "        while self._pq:\n",
    "            priority, _, item = heapq.heappop(self._pq)\n",
    "            if item is not self._REMOVED:\n",
    "                self._entry_finder.pop(item, None)\n",
    "                return item, priority\n",
    "        raise KeyError('pop from an empty priority queue')\n",
    "    def empty(self):\n",
    "        return not self._entry_finder\n",
    "\n",
    "class SearchResult:\n",
    "    def __init__(self, path: List[Any], cost: float, expanded: int, depth: int, runtime_ms: float):\n",
    "        self.path = path\n",
    "        self.cost = cost\n",
    "        self.expanded = expanded\n",
    "        self.depth = depth\n",
    "        self.runtime_ms = runtime_ms\n",
    "    def as_dict(self):\n",
    "        return {\n",
    "            'path': self.path,\n",
    "            'cost': self.cost,\n",
    "            'expanded': self.expanded,\n",
    "            'depth': self.depth,\n",
    "            'runtime_ms': round(self.runtime_ms, 3)\n",
    "        }\n",
    "\n",
    "# -----------------\n",
    "# Heurísticas\n",
    "# -----------------\n",
    "\n",
    "def h_zero(goal: Any) -> Heuristic:\n",
    "    return lambda n: 0.0\n",
    "\n",
    "def h_euclid(G: nx.Graph, goal: Any) -> Heuristic:\n",
    "    xg, yg = G.nodes[goal]['pos']\n",
    "    def _h(n):\n",
    "        x, y = G.nodes[n]['pos']\n",
    "        return math.hypot(x - xg, y - yg)\n",
    "    return _h\n",
    "\n",
    "# Escalada controlada (para estudio de sobreestimación)\n",
    "# h'(n) = alpha * h_euclid(n), con alpha >= 1\n",
    "\n",
    "def h_scaled(G: nx.Graph, goal: Any, alpha: float = 1.2) -> Heuristic:\n",
    "    base = h_euclid(G, goal)\n",
    "    return lambda n: alpha * base(n)\n",
    "\n",
    "# -----------------\n",
    "# Reconstrucción de camino\n",
    "# -----------------\n",
    "\n",
    "def reconstruct(parent: Dict[Any, Any], goal: Any):\n",
    "    path = []\n",
    "    n = goal\n",
    "    while n is not None:\n",
    "        path.append(n)\n",
    "        n = parent.get(n, None)\n",
    "    path.reverse()\n",
    "    return path\n",
    "\n",
    "# -----------------\n",
    "# UCS\n",
    "# -----------------\n",
    "\n",
    "def ucs(G: nx.Graph, start: Any, goal: Any) -> SearchResult:\n",
    "    t0 = time.perf_counter()\n",
    "    openq = PriorityQueue()\n",
    "    openq.push_or_decrease(start, 0.0)\n",
    "    g = {start: 0.0}\n",
    "    parent = {start: None}\n",
    "    expanded = 0\n",
    "    visited = set()\n",
    "    depth = {start: 0}\n",
    "    while not openq.empty():\n",
    "        n, _ = openq.pop_min()\n",
    "        if n in visited:\n",
    "            continue\n",
    "        visited.add(n)\n",
    "        expanded += 1\n",
    "        if n == goal:\n",
    "            t1 = time.perf_counter()\n",
    "            path = reconstruct(parent, goal)\n",
    "            return SearchResult(path, g[goal], expanded, depth[goal], (t1 - t0)*1000)\n",
    "        for nbr in G.neighbors(n):\n",
    "            w = G[n][nbr]['weight']\n",
    "            tentative = g[n] + w\n",
    "            if nbr not in g or tentative < g[nbr]:\n",
    "                g[nbr] = tentative\n",
    "                parent[nbr] = n\n",
    "                depth[nbr] = depth[n] + 1\n",
    "                openq.push_or_decrease(nbr, g[nbr])\n",
    "    return SearchResult([], float('inf'), expanded, -1, (time.perf_counter() - t0)*1000)\n",
    "\n",
    "# -----------------\n",
    "# A*\n",
    "# -----------------\n",
    "\n",
    "def astar(G: nx.Graph, start: Any, goal: Any, h: Heuristic) -> SearchResult:\n",
    "    t0 = time.perf_counter()\n",
    "    openq = PriorityQueue()\n",
    "    openq.push_or_decrease(start, h(start))\n",
    "    g = {start: 0.0}\n",
    "    parent = {start: None}\n",
    "    depth = {start: 0}\n",
    "    closed = set()\n",
    "    expanded = 0\n",
    "    while not openq.empty():\n",
    "        n, _ = openq.pop_min()\n",
    "        if n in closed:\n",
    "            continue\n",
    "        closed.add(n)\n",
    "        expanded += 1\n",
    "        if n == goal:\n",
    "            t1 = time.perf_counter()\n",
    "            path = reconstruct(parent, goal)\n",
    "            return SearchResult(path, g[goal], expanded, depth[goal], (t1 - t0)*1000)\n",
    "        for nbr in G.neighbors(n):\n",
    "            w = G[n][nbr]['weight']\n",
    "            tentative = g[n] + w\n",
    "            if nbr not in g or tentative < g[nbr]:\n",
    "                g[nbr] = tentative\n",
    "                parent[nbr] = n\n",
    "                depth[nbr] = depth[n] + 1\n",
    "                f = g[nbr] + h(nbr)\n",
    "                openq.push_or_decrease(nbr, f)\n",
    "    return SearchResult([], float('inf'), expanded, -1, (time.perf_counter() - t0)*1000)\n",
    "\n",
    "# -----------------\n",
    "# Construcción de grafo de ejemplo\n",
    "# -----------------\n",
    "\n",
    "def build_sample_graph() -> Tuple[nx.Graph, Any, Any]:\n",
    "    G = nx.Graph()\n",
    "    # nodos con posiciones (x,y)\n",
    "    coords: Dict[str, Position] = {\n",
    "        'A': (0, 0), 'B': (2, 1), 'C': (4, 0),\n",
    "        'D': (1, 3), 'E': (3, 3), 'F': (5, 2)\n",
    "    }\n",
    "    for n, pos in coords.items():\n",
    "        G.add_node(n, pos=pos)\n",
    "    def euclid(u,v):\n",
    "        x1,y1 = G.nodes[u]['pos']\n",
    "        x2,y2 = G.nodes[v]['pos']\n",
    "        return math.hypot(x1-x2, y1-y2)\n",
    "    # aristas (puedes ajustar para simular cierres/restricciones)\n",
    "    edges = [\n",
    "        ('A','B'), ('B','C'), ('A','D'), ('B','D'),\n",
    "        ('B','E'), ('C','F'), ('D','E'), ('E','F')\n",
    "    ]\n",
    "    for u,v in edges:\n",
    "        G.add_edge(u, v, weight=euclid(u,v))\n",
    "    return G, 'A', 'F'\n",
    "\n",
    "# -----------------\n",
    "# Runner de experimentos (automatización comparativa)\n",
    "# -----------------\n",
    "\n",
    "def run_compare(G: nx.Graph, start: Any, goal: Any, heuristic_name: str = 'euclid', alpha: float = 1.2):\n",
    "    results = []\n",
    "    # UCS (baseline)\n",
    "    r_ucs = ucs(G, start, goal)\n",
    "    results.append(('UCS', 'h=0', r_ucs))\n",
    "    # A* con h=0 (equivalente a UCS)\n",
    "    r_h0 = astar(G, start, goal, h_zero(goal))\n",
    "    results.append(('A*', 'h=0', r_h0))\n",
    "    # A* euclidiana\n",
    "    if heuristic_name == 'euclid':\n",
    "        r_astar = astar(G, start, goal, h_euclid(G, goal))\n",
    "        results.append(('A*', 'h=euclid', r_astar))\n",
    "    # A* con sobreestimación controlada (para análisis)\n",
    "    r_scaled = astar(G, start, goal, h_scaled(G, goal, alpha=alpha))\n",
    "    results.append(('A*', f'h={alpha}*euclid', r_scaled))\n",
    "    # Formato salida\n",
    "    table = []\n",
    "    for algo, hname, r in results:\n",
    "        table.append({\n",
    "            'algo': algo,\n",
    "            'heuristic': hname,\n",
    "            **r.as_dict()\n",
    "        })\n",
    "    return table\n"
   ]
  },
  {
   "cell_type": "code",
   "execution_count": 4,
   "id": "a4da2278",
   "metadata": {},
   "outputs": [
    {
     "name": "stdout",
     "output_type": "stream",
     "text": [
      "{'algo': 'UCS', 'heuristic': 'h=0', 'path': ['A', 'B', 'C', 'F'], 'cost': 6.708203932499369, 'expanded': 6, 'depth': 3, 'runtime_ms': 0.15}\n",
      "{'algo': 'A*', 'heuristic': 'h=0', 'path': ['A', 'B', 'C', 'F'], 'cost': 6.708203932499369, 'expanded': 6, 'depth': 3, 'runtime_ms': 0.022}\n",
      "{'algo': 'A*', 'heuristic': 'h=euclid', 'path': ['A', 'B', 'C', 'F'], 'cost': 6.708203932499369, 'expanded': 5, 'depth': 3, 'runtime_ms': 0.019}\n",
      "{'algo': 'A*', 'heuristic': 'h=1.3*euclid', 'path': ['A', 'B', 'C', 'F'], 'cost': 6.708203932499369, 'expanded': 4, 'depth': 3, 'runtime_ms': 0.015}\n"
     ]
    }
   ],
   "source": [
    "if __name__ == '__main__':\n",
    "    G, s, t = build_sample_graph()\n",
    "    table = run_compare(G, s, t, heuristic_name='euclid', alpha=1.3)\n",
    "    for row in table:\n",
    "        print(row)"
   ]
  },
  {
   "cell_type": "markdown",
   "id": "159e0309",
   "metadata": {},
   "source": [
    "## Interpretación de resultados y comparación de algoritmos\n",
    "A continuación se comentan las métricas obtenidas en el ejemplo para cada algoritmo:\n",
    "\n",
    "## Resultados obtenidos\n",
    "| Algoritmo | Heurística       | Camino encontrado       | Costo   | Nodos expandidos | Profundidad | Tiempo (ms) |\n",
    "|-----------|------------------|------------------------|---------|------------------|-------------|-------------|\n",
    "| UCS       | h=0              | A → B → C → F           | 6.7082  | 6                | 3           | 0.150       |\n",
    "| A*        | h=0              | A → B → C → F           | 6.7082  | 6                | 3           | 0.022       |\n",
    "| A*        | h=euclid         | A → B → C → F           | 6.7082  | 5                | 3           | 0.019       |\n",
    "| A*        | h=1.3×euclid     | A → B → C → F           | 6.7082  | 4                | 3           | 0.015       |\n",
    "\n",
    "---\n",
    "\n",
    "**Interpretación:**\n",
    "- Todas las configuraciones encontraron el mismo camino óptimo con costo ≈ 6.71.\n",
    "- Usar una heurística informativa (euclidiana) redujo la cantidad de nodos expandidos y el tiempo de ejecución frente a UCS.\n",
    "- La heurística escalada (1.3×euclid) aceleró aún más la búsqueda, aunque en grafos más complejos podría perder optimalidad.\n",
    "\n"
   ]
  },
  {
   "cell_type": "markdown",
   "id": "e5fa7600",
   "metadata": {},
   "source": [
    "## Respuestas a Preguntas Orientadoras"
   ]
  },
  {
   "cell_type": "markdown",
   "id": "e973c900",
   "metadata": {},
   "source": [
    "**1) ¿Cómo afecta la calidad de la heurística?**\n",
    "> Una heurística más informativa (euclidiana) reduce el número de nodos expandidos y el tiempo de ejecución sin perder optimalidad. La heurística escalada (1.3×euclid) reduce aún más las expansiones, pero podría sacrificar optimalidad en casos más complejos.\n",
    "\n",
    "**2) ¿Es pertinente la euclidiana?**\n",
    "> Sí, porque el peso de las aristas se calculó como distancia euclidiana. Esto garantiza que la heurística sea admisible y consistente.\n",
    "\n",
    "**3) ¿Flexibilidad ante nuevas rutas o restricciones?**\n",
    "> El modelo permite añadir o quitar aristas y ajustar pesos fácilmente. Los algoritmos pueden recalcular rutas óptimas sin modificar la lógica interna.\n",
    "\n",
    "**4) ¿Escalabilidad si el grafo crece 10× en tamaño?**\n",
    "> UCS y A* seguirán funcionando, pero el tiempo y memoria crecerán. Una heurística de calidad (como la euclidiana) será clave para reducir expansiones. En grafos muy grandes se recomienda optimizar con técnicas como búsqueda bidireccional o preprocesamiento de rutas.\n",
    "\n",
    "---"
   ]
  },
  {
   "cell_type": "markdown",
   "id": "d8fb8ab0",
   "metadata": {},
   "source": [
    "# Punto 2"
   ]
  },
  {
   "cell_type": "markdown",
   "id": "ae5c5d87",
   "metadata": {},
   "source": [
    "## Pseudocodigo "
   ]
  },
  {
   "cell_type": "markdown",
   "id": "ae2b27f8",
   "metadata": {},
   "source": [
    "ALGORITMO Anchura(G, inicio, meta)\n",
    "    frontera ← Cola()                    // FIFO\n",
    "    frontera.encolar(inicio)\n",
    "    explorados ← {inicio}\n",
    "    padre ← diccionario vacío\n",
    "\n",
    "    MIENTRAS frontera NO esté vacía HACER\n",
    "        n ← frontera.desencolar()\n",
    "        SI n = meta ENTONCES\n",
    "            DEVOLVER reconstruir_camino(padre, n)\n",
    "        FIN SI\n",
    "\n",
    "        PARA CADA vecino EN G.adyacentes(n) HACER\n",
    "            SI vecino NO está EN explorados ENTONCES\n",
    "                explorados.agregar(vecino)\n",
    "                frontera.encolar(vecino)\n",
    "                padre[vecino] ← n\n",
    "            FIN SI\n",
    "        FIN PARA\n",
    "    FIN MIENTRAS\n",
    "\n",
    "    DEVOLVER fallo\n",
    "FIN ALGORITMO"
   ]
  },
  {
   "cell_type": "code",
   "execution_count": null,
   "id": "d8acc5af",
   "metadata": {},
   "outputs": [],
   "source": [
    "## Codigo "
   ]
  },
  {
   "cell_type": "code",
   "execution_count": null,
   "id": "af3a7593",
   "metadata": {},
   "outputs": [],
   "source": [
    "# Punto 3"
   ]
  },
  {
   "cell_type": "markdown",
   "id": "02a26d41",
   "metadata": {},
   "source": [
    "## Pseudocodigo"
   ]
  },
  {
   "cell_type": "markdown",
   "id": "e10b4b19",
   "metadata": {},
   "source": [
    "Entrada: G=(V,E), inicio s, destino t, weight(u,v) en minutos, h(n)\n",
    "Salida: ruta óptima y tiempo total\n",
    "\n",
    "1  open ← PriorityQueue()\n",
    "2  open.push(s, key=h(s))\n",
    "3  g[s] ← 0\n",
    "4  parent[s] ← None\n",
    "5  closed ← ∅\n",
    "6  expanded ← 0\n",
    "7  while open ≠ ∅:\n",
    "8      (n, _) ← open.pop_min()\n",
    "9      if n ∈ closed: continue\n",
    "10     closed ← closed ∪ {n}\n",
    "11     expanded ← expanded + 1\n",
    "12     if n == t:\n",
    "13         return Reconstruir(parent, t), g[t], expanded\n",
    "14     for cada m ∈ vecinos(n):\n",
    "15         costo_tent ← g[n] + weight(n,m)\n",
    "16         if m ∉ g or costo_tent < g[m]:\n",
    "17             g[m] ← costo_tent\n",
    "18             parent[m] ← n\n",
    "19             f_m ← g[m] + h(m)\n",
    "20             open.push_or_decrease(m, f_m)\n",
    "21 return ∅, ∞, expanded\n",
    "\n",
    "\n"
   ]
  },
  {
   "cell_type": "code",
   "execution_count": null,
   "id": "a4236c54",
   "metadata": {},
   "outputs": [],
   "source": [
    "## Codigo"
   ]
  },
  {
   "cell_type": "code",
   "execution_count": 7,
   "id": "744ab6a2",
   "metadata": {},
   "outputs": [
    {
     "name": "stdout",
     "output_type": "stream",
     "text": [
      "Ruta: ['A', 'B', 'C', 'D']\n",
      "Tiempo total (min): 12\n",
      "Nodos expandidos: 4\n"
     ]
    }
   ],
   "source": [
    "import networkx as nx\n",
    "import math\n",
    "\n",
    "# Construcción del grafo de la red de metro\n",
    "def build_metro_graph():\n",
    "    G = nx.Graph()\n",
    "    coords = {\n",
    "        'A': (0, 0),\n",
    "        'B': (2, 0),\n",
    "        'C': (4, 0),\n",
    "        'D': (4, 2)\n",
    "    }\n",
    "    for station, pos in coords.items():\n",
    "        G.add_node(station, pos=pos)\n",
    "    edges = [\n",
    "        ('A', 'B', 3),\n",
    "        ('B', 'C', 4),\n",
    "        ('C', 'D', 5)\n",
    "    ]\n",
    "    for u, v, time in edges:\n",
    "        G.add_edge(u, v, weight=time)\n",
    "    return G, 'A', 'D'\n",
    "\n",
    "# Heurística basada en línea recta y velocidad promedio (40 km/h ≈ 0.667 km/min)\n",
    "def h_metro(G, goal):\n",
    "    vel = 0.667\n",
    "    xg, yg = G.nodes[goal]['pos']\n",
    "    def h(n):\n",
    "        x, y = G.nodes[n]['pos']\n",
    "        dist = math.hypot(x - xg, y - yg)\n",
    "        return dist / vel\n",
    "    return h\n",
    "\n",
    "# Ejecución de A*\n",
    "from heapq import heappush, heappop\n",
    "\n",
    "def astar_metro(G, start, goal, h):\n",
    "    openq = []\n",
    "    heappush(openq, (h(start), start))\n",
    "    g = {start: 0}\n",
    "    parent = {start: None}\n",
    "    expanded = 0\n",
    "    closed = set()\n",
    "    while openq:\n",
    "        _, n = heappop(openq)\n",
    "        if n in closed:\n",
    "            continue\n",
    "        closed.add(n)\n",
    "        expanded += 1\n",
    "        if n == goal:\n",
    "            return reconstruct(parent, goal), g[goal], expanded\n",
    "        for nbr in G.neighbors(n):\n",
    "            time_cost = G[n][nbr]['weight']\n",
    "            tentative = g[n] + time_cost\n",
    "            if nbr not in g or tentative < g[nbr]:\n",
    "                g[nbr] = tentative\n",
    "                parent[nbr] = n\n",
    "                heappush(openq, (g[nbr] + h(nbr), nbr))\n",
    "    return [], float('inf'), expanded\n",
    "\n",
    "def reconstruct(parent, goal):\n",
    "    path = []\n",
    "    n = goal\n",
    "    while n is not None:\n",
    "        path.append(n)\n",
    "        n = parent.get(n)\n",
    "    return path[::-1]\n",
    "\n",
    "# Ejemplo de ejecución\n",
    "G, s, t = build_metro_graph()\n",
    "path, cost, expanded = astar_metro(G, s, t, h_metro(G, t))\n",
    "print(\"Ruta:\", path)\n",
    "print(\"Tiempo total (min):\", round(cost, 2))\n",
    "print(\"Nodos expandidos:\", expanded)"
   ]
  },
  {
   "cell_type": "markdown",
   "id": "e79211e7",
   "metadata": {},
   "source": []
  },
  {
   "cell_type": "markdown",
   "id": "fbb339b4",
   "metadata": {},
   "source": [
    "## Respuestas a Preguntas Orientadoras"
   ]
  },
  {
   "cell_type": "markdown",
   "id": "254ea56b",
   "metadata": {},
   "source": [
    "# Punto 3"
   ]
  },
  {
   "cell_type": "markdown",
   "id": "27ac173f",
   "metadata": {},
   "source": [
    "## Pseudocodigo"
   ]
  },
  {
   "cell_type": "markdown",
   "id": "525f91e3",
   "metadata": {},
   "source": [
    "SUBALGORITMO Profundidad_Limitada(G, n, meta, límite)\n",
    "    SI n = meta ENTONCES\n",
    "        DEVOLVER reconstruir_camino(global_padre, n)\n",
    "    FIN SI\n",
    "    SI límite = 0 ENTONCES\n",
    "        DEVOLVER \"corte\"                           // profundidad agotada\n",
    "    FIN SI\n",
    "    corte_ocurrió ← FALSO\n",
    "    PARA CADA vecino EN G.adyacentes(n) HACER\n",
    "        SI vecino NO visitado ENTONCES\n",
    "            global_padre[vecino] ← n\n",
    "            resultado ← Profundidad_Limitada(G, vecino, meta, límite-1)\n",
    "            SI resultado = \"corte\" ENTONCES\n",
    "                corte_ocurrió ← VERDADERO\n",
    "            SINO SI resultado ≠ fallo ENTONCES\n",
    "                DEVOLVER resultado                // se halló solución\n",
    "            FIN SI\n",
    "        FIN SI\n",
    "    FIN PARA\n",
    "    SI corte_ocurrió ENTONCES DEVOLVER \"corte\" SINO DEVOLVER fallo\n",
    "FIN SUBALGORITMO\n"
   ]
  },
  {
   "cell_type": "markdown",
   "id": "c922eead",
   "metadata": {},
   "source": [
    "ALGORITMO ACMR_Profundidad_Limitada(Especie a, Especie b, límite L, DAG filogenia)\n",
    "    ancestros_a ← Ancestros_Limitados(a, L, filogenia)\n",
    "    ancestros_b ← Ancestros_Limitados(b, L, filogenia)\n",
    "    comunes ← intersección(ancestros_a, ancestros_b)\n",
    "    SI comunes vacía ENTONCES DEVOLVER \"sin ancestro común dentro de L\"\n",
    "    DEVOLVER más_profundo(comunes)                 // profundidad mínima desde a y b\n",
    "FIN ALGORITMO\n"
   ]
  },
  {
   "cell_type": "markdown",
   "id": "5c8bd0c4",
   "metadata": {},
   "source": [
    "## Codigo"
   ]
  },
  {
   "cell_type": "markdown",
   "id": "03ca6467",
   "metadata": {},
   "source": [
    "## Respuestas a Preguntas Orientadoras"
   ]
  },
  {
   "cell_type": "markdown",
   "id": "cee28dbe",
   "metadata": {},
   "source": [
    "# Punto 4"
   ]
  },
  {
   "cell_type": "markdown",
   "id": "ce85fd02",
   "metadata": {},
   "source": [
    "## Pseudocodigo"
   ]
  },
  {
   "cell_type": "markdown",
   "id": "c85af86e",
   "metadata": {},
   "source": [
    "ALGORITMO ACMR_Prof_Lim(a, b, L, grafo)\n",
    "    // Obtener ancestros hasta L niveles\n",
    "    A ← Ancestros_Limitados(a, L, grafo)\n",
    "    B ← Ancestros_Limitados(b, L, grafo)\n",
    "\n",
    "    comunes ← A ∩ B\n",
    "    SI comunes vacío ENTONCES\n",
    "        DEVOLVER \"sin ancestro común hasta L\"\n",
    "    FIN SI\n",
    "\n",
    "    DEVOLVER ancestro_más_profundo(comunes)\n",
    "FIN ALGORITMO\n",
    "\n",
    "SUBALGORITMO Ancestros_Limitados(nodo, L, grafo)\n",
    "    conjunto ← {nodo}\n",
    "    SI L = 0 ENTONCES\n",
    "        DEVOLVER conjunto\n",
    "    FIN SI\n",
    "\n",
    "    PARA CADA padre EN grafo.predecesores(nodo) HACER\n",
    "        conjunto ← conjunto ∪ Ancestros_Limitados(padre, L-1, grafo)\n",
    "    FIN PARA\n",
    "\n",
    "    DEVOLVER conjunto\n",
    "FIN SUBALGORITMO\n"
   ]
  },
  {
   "cell_type": "markdown",
   "id": "8b67ceda",
   "metadata": {},
   "source": [
    "## Codigo"
   ]
  },
  {
   "cell_type": "markdown",
   "id": "7db58be5",
   "metadata": {},
   "source": [
    "## Respuestas a Preguntas Orientadoras"
   ]
  }
 ],
 "metadata": {
  "kernelspec": {
   "display_name": "base",
   "language": "python",
   "name": "python3"
  },
  "language_info": {
   "codemirror_mode": {
    "name": "ipython",
    "version": 3
   },
   "file_extension": ".py",
   "mimetype": "text/x-python",
   "name": "python",
   "nbconvert_exporter": "python",
   "pygments_lexer": "ipython3",
   "version": "3.13.5"
  }
 },
 "nbformat": 4,
 "nbformat_minor": 5
}
