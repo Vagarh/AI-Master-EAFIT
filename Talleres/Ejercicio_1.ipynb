{
 "cells": [
  {
   "cell_type": "markdown",
   "id": "ce4ce037",
   "metadata": {},
   "source": []
  },
  {
   "cell_type": "markdown",
   "id": "5bd5f3b1",
   "metadata": {},
   "source": [
    "## Taller N\u00b01 : Aplicacion de Algoritmos de B\u00b4usqueda\n",
    "\n",
    "* Profesor: Jorge Ivan Padilla Buritica\n",
    "* Estudiante: Juan Felipe Cardona Arango \n",
    "* Maestria en Ciencia de Datos y Analitica\n",
    "* Curso Fundamentos de Inteligencia Artificial\n",
    "* 2025-02\n"
   ]
  },
  {
   "cell_type": "markdown",
   "id": "b7828458",
   "metadata": {},
   "source": [
    "## Preparacion del entorno de trabajo"
   ]
  },
  {
   "cell_type": "code",
   "execution_count": 51,
   "id": "3753bb50",
   "metadata": {},
   "outputs": [],
   "source": [
    "import math\nimport heapq\nimport time\nfrom collections import deque\n"
   ]
  },
  {
   "cell_type": "code",
   "execution_count": null,
   "metadata": {},
   "outputs": [],
   "source": [
    "def reconstruct(parent, goal):\n    path = []\n    n = goal\n    while n is not None:\n        path.append(n)\n        n = parent.get(n)\n    return list(reversed(path))\n\n\ndef compute_hop_dist(graph, goals):\n    dist = {g: 0 for g in goals}\n    q = deque(goals)\n    while q:\n        u = q.popleft()\n        for item in graph.neighbors(u):\n            if isinstance(item, tuple):\n                v, attrs = item\n                if isinstance(attrs, dict) and attrs.get(\"closed\"):\n                    continue\n            else:\n                v = item\n            if v not in dist:\n                dist[v] = dist[u] + 1\n                q.append(v)\n    return dist\n\n\nclass PhyloTree:\n    def __init__(self, root):\n        self.root = root\n        self.children = {root: []}\n\n    def add_edge(self, parent, child):\n        self.children.setdefault(parent, []).append(child)\n        self.children.setdefault(child, [])\n\n    def successors(self, node):\n        return self.children.get(node, [])\n\n\ndef _dls_path(tree, start, goal, limit):\n    stack = [(start, [start], 0)]\n    expanded = 0\n    while stack:\n        node, path, depth = stack.pop()\n        if node == goal:\n            return path, expanded\n        if depth < limit:\n            for child in reversed(list(tree.successors(node))):\n                stack.append((child, path + [child], depth + 1))\n        expanded += 1\n    return [], expanded\n\n\ndef _bfs_path(tree, start, goal):\n    q = deque([(start, [start])])\n    expanded = 0\n    visited = {start}\n    while q:\n        node, path = q.popleft()\n        if node == goal:\n            return path, expanded\n        for child in tree.successors(node):\n            if child not in visited:\n                visited.add(child)\n                q.append((child, path + [child]))\n        expanded += 1\n    return [], expanded\n\n\ndef lca_with_method(tree, u, v, method=\"DLS\", max_depth=None):\n    start = tree.root\n    t0 = time.time()\n    m = method.upper()\n    if m == \"DLS\":\n        if max_depth is None:\n            raise ValueError(\"max_depth es obligatorio para DLS\")\n        path_u, exp_u = _dls_path(tree, start, u, max_depth)\n        path_v, exp_v = _dls_path(tree, start, v, max_depth)\n    elif m == \"BFS\":\n        path_u, exp_u = _bfs_path(tree, start, u)\n        path_v, exp_v = _bfs_path(tree, start, v)\n    else:\n        raise ValueError(\"method debe ser 'DLS' o 'BFS'\")\n    lca = None\n    for a, b in zip(path_u, path_v):\n        if a == b:\n            lca = a\n        else:\n            break\n    return {\n        \"ruta_u\": path_u,\n        \"ruta_v\": path_v,\n        \"expandidos_u\": exp_u,\n        \"expandidos_v\": exp_v,\n        \"profundidad_u\": len(path_u) - 1 if path_u else None,\n        \"profundidad_v\": len(path_v) - 1 if path_v else None,\n        \"LCA\": lca,\n        \"tiempo_ms\": round((time.time() - t0) * 1000, 3),\n    }\n"
   ]
  },
  {
   "cell_type": "markdown",
   "id": "a26088b2",
   "metadata": {},
   "source": [
    "# Punto 1:Optimizacion de rutas rurales (Logistica)"
   ]
  },
  {
   "cell_type": "markdown",
   "id": "f6099fc8",
   "metadata": {},
   "source": [
    "## Pregunta orientadora\n",
    "**\u00bfC\u00f3mo llego del nodo de inicio al nodo final gastando lo menos posible?**\n",
    "\n",
    "---\n",
    "\n",
    "## Algoritmos usados\n",
    "- **UCS (B\u00fasqueda de Costo Uniforme)**: explora rutas siempre expandiendo el camino m\u00e1s barato encontrado hasta ahora. Garantiza el camino \u00f3ptimo si los pesos son positivos.\n",
    "- **A***: es parecido a UCS, pero usa una **heur\u00edstica** que le da una idea de qu\u00e9 tan cerca est\u00e1 del destino. Esto le permite ser m\u00e1s r\u00e1pido sin perder la exactitud si la heur\u00edstica est\u00e1 bien dise\u00f1ada.\n",
    "\n",
    "---\n",
    "\n",
    "## \u00bfQu\u00e9 es la heur\u00edstica?\n",
    "Una heur\u00edstica es una **estimaci\u00f3n** del costo que falta para llegar al destino. Por ejemplo, si conocemos las coordenadas de cada punto, podemos usar la **distancia en l\u00ednea recta** (distancia euclidiana) como estimaci\u00f3n.\n",
    "\n",
    "> Si la l\u00ednea recta siempre es igual o menor que cualquier ruta real, no se sobreestima el costo y A* seguir\u00e1 encontrando la mejor ruta.\n",
    "\n",
    "---\n",
    "\n",
    "## Soluci\u00f3n propuesta\n",
    "1. Representar el mapa como un grafo con nodos, conexiones y pesos.\n",
    "2. Elegir el nodo inicial y el nodo destino.\n",
    "3. Seleccionar el algoritmo (UCS o A*) y, si es A*, definir la heur\u00edstica.\n",
    "4. Explorar el grafo paso a paso, comparando costos acumulados.\n",
    "5. Cuando se llega al destino, devolver el camino encontrado y su costo total.\n",
    "\n",
    "---\n",
    "\n",
    "## Medici\u00f3n\n",
    "Para evaluar un algoritmo no basta con que encuentre el camino \u00f3ptimo; tambi\u00e9n importa **el esfuerzo que le cost\u00f3 encontrarlo**.\n",
    "\n",
    "Por eso medimos:\n",
    "- **Costo total** del camino encontrado.\n",
    "- **Nodos expandidos** durante la b\u00fasqueda.\n",
    "- **Profundidad** de la soluci\u00f3n (n\u00famero de pasos o aristas).\n",
    "- **Tiempo de ejecuci\u00f3n** (en milisegundos).\n",
    "\n"
   ]
  },
  {
   "cell_type": "markdown",
   "id": "c3acc076",
   "metadata": {},
   "source": [
    "## Codigo"
   ]
  },
  {
   "cell_type": "code",
   "execution_count": 2,
   "id": "de937675",
   "metadata": {},
   "outputs": [],
   "source": [
    "from __future__ import annotations\n",
    "from typing import Dict, Tuple, Callable, List, Any\n",
    "import math\n",
    "import time\n",
    "import heapq\n",
    "import networkx as nx\n"
   ]
  },
  {
   "cell_type": "code",
   "execution_count": 3,
   "id": "c7c4662b",
   "metadata": {},
   "outputs": [],
   "source": [
    "# Runner gen\u00e9rico de algoritmos\n",
    "from typing import Callable, Dict, Any\n",
    "def run_compare_algorithms(algos: Dict[str, Callable[[], Any]]):\n",
    "    \"\"\"Ejecuta funciones de b\u00fasqueda y recopila m\u00e9tricas comunes.\"\"\"\n",
    "    table = []\n",
    "    for name, func in algos.items():\n",
    "        t0 = time.time()\n",
    "        res = func()\n",
    "        t1 = time.time()\n",
    "        if hasattr(res, 'as_dict'):\n",
    "            data = res.as_dict()\n",
    "        elif isinstance(res, dict):\n",
    "            data = res\n",
    "        elif isinstance(res, tuple) and len(res)==5:\n",
    "            path, cost, expd, depth, tms = res\n",
    "            data = {'path': path, 'cost': cost, 'expanded': expd, 'depth': depth, 'runtime_ms': tms}\n",
    "        else:\n",
    "            data = {'result': res}\n",
    "        data['algo'] = name\n",
    "        data.setdefault('runtime_ms', round((t1-t0)*1000,3))\n",
    "        table.append(data)\n",
    "    return table\n"
   ]
  },
  {
   "cell_type": "code",
   "execution_count": 4,
   "id": "a4da2278",
   "metadata": {},
   "outputs": [
    {
     "name": "stdout",
     "output_type": "stream",
     "text": [
      "{'algo': 'UCS', 'heuristic': 'h=0', 'path': ['A', 'B', 'C', 'F'], 'cost': 6.708203932499369, 'expanded': 6, 'depth': 3, 'runtime_ms': 0.15}\n",
      "{'algo': 'A*', 'heuristic': 'h=0', 'path': ['A', 'B', 'C', 'F'], 'cost': 6.708203932499369, 'expanded': 6, 'depth': 3, 'runtime_ms': 0.022}\n",
      "{'algo': 'A*', 'heuristic': 'h=euclid', 'path': ['A', 'B', 'C', 'F'], 'cost': 6.708203932499369, 'expanded': 5, 'depth': 3, 'runtime_ms': 0.019}\n",
      "{'algo': 'A*', 'heuristic': 'h=1.3*euclid', 'path': ['A', 'B', 'C', 'F'], 'cost': 6.708203932499369, 'expanded': 4, 'depth': 3, 'runtime_ms': 0.015}\n"
     ]
    }
   ],
   "source": [
    "if __name__ == '__main__':\n",
    "    G, s, t = build_sample_graph()\n",
    "    algos = {\n",
    "        'UCS': lambda: ucs(G, s, t),\n",
    "        'A* h=0': lambda: astar(G, s, t, h_zero(t)),\n",
    "        'A* h=euclid': lambda: astar(G, s, t, h_euclid(G, t)),\n",
    "        'A* h=1.3*euclid': lambda: astar(G, s, t, h_scaled(G, t, alpha=1.3))\n",
    "    }\n",
    "    table = run_compare_algorithms(algos)\n",
    "    for row in table:\n",
    "        print(row)\n"
   ]
  },
  {
   "cell_type": "markdown",
   "id": "159e0309",
   "metadata": {},
   "source": [
    " Interpretaci\u00f3n de resultados y comparaci\u00f3n de algoritmos\n",
    "A continuaci\u00f3n se comentan las m\u00e9tricas obtenidas en el ejemplo para cada algoritmo:\n",
    "\n",
    " Resultados obtenidos\n",
    "| Algoritmo | Heur\u00edstica       | Camino encontrado       | Costo   | Nodos expandidos | Profundidad | Tiempo (ms) |\n",
    "|-----------|------------------|------------------------|---------|------------------|-------------|-------------|\n",
    "| UCS       | h=0              | A \u2192 B \u2192 C \u2192 F           | 6.7082  | 6                | 3           | 0.150       |\n",
    "| A*        | h=0              | A \u2192 B \u2192 C \u2192 F           | 6.7082  | 6                | 3           | 0.022       |\n",
    "| A*        | h=euclid         | A \u2192 B \u2192 C \u2192 F           | 6.7082  | 5                | 3           | 0.019       |\n",
    "| A*        | h=1.3\u00d7euclid     | A \u2192 B \u2192 C \u2192 F           | 6.7082  | 4                | 3           | 0.015       |\n",
    "\n",
    "---\n",
    "\n",
    "**Interpretaci\u00f3n:**\n",
    "- Todas las configuraciones encontraron el mismo camino \u00f3ptimo con costo \u2248 6.71.\n",
    "- Usar una heur\u00edstica informativa (euclidiana) redujo la cantidad de nodos expandidos y el tiempo de ejecuci\u00f3n frente a UCS.\n",
    "- La heur\u00edstica escalada (1.3\u00d7euclid) aceler\u00f3 a\u00fan m\u00e1s la b\u00fasqueda, aunque en grafos m\u00e1s complejos podr\u00eda perder optimalidad.\n",
    "\n"
   ]
  },
  {
   "cell_type": "markdown",
   "id": "e5fa7600",
   "metadata": {},
   "source": [
    "## Respuestas a Preguntas Orientadoras"
   ]
  },
  {
   "cell_type": "markdown",
   "id": "e973c900",
   "metadata": {},
   "source": [
    "**1) \u00bfC\u00f3mo afecta la calidad de la heur\u00edstica?**\n",
    "> Una heur\u00edstica m\u00e1s informativa (euclidiana) reduce el n\u00famero de nodos expandidos y el tiempo de ejecuci\u00f3n sin perder optimalidad. La heur\u00edstica escalada (1.3\u00d7euclid) reduce a\u00fan m\u00e1s las expansiones, pero podr\u00eda sacrificar optimalidad en casos m\u00e1s complejos.\n",
    "\n",
    "**2) \u00bfEs pertinente la euclidiana?**\n",
    "> S\u00ed, porque el peso de las aristas se calcul\u00f3 como distancia euclidiana. Esto garantiza que la heur\u00edstica sea admisible y consistente.\n",
    "\n",
    "**3) \u00bfFlexibilidad ante nuevas rutas o restricciones?**\n",
    "> El modelo permite a\u00f1adir o quitar aristas y ajustar pesos f\u00e1cilmente. Los algoritmos pueden recalcular rutas \u00f3ptimas sin modificar la l\u00f3gica interna.\n",
    "\n",
    "**4) \u00bfEscalabilidad si el grafo crece 10\u00d7 en tama\u00f1o?**\n",
    "> UCS y A* seguir\u00e1n funcionando, pero el tiempo y memoria crecer\u00e1n. Una heur\u00edstica de calidad (como la euclidiana) ser\u00e1 clave para reducir expansiones. En grafos muy grandes se recomienda optimizar con t\u00e9cnicas como b\u00fasqueda bidireccional o preprocesamiento de rutas.\n",
    "\n",
    "---"
   ]
  },
  {
   "cell_type": "markdown",
   "id": "d8fb8ab0",
   "metadata": {},
   "source": [
    "# Punto 2: Red de metro (transporte)\n",
    "Se proporciona un grafo no ponderado de estaciones de metro. Compare las soluciones usando **BFS** (Breadth-First Search) e **IDS** (Iterative Deepening Search) para ir de la estaci\u00f3n A a la estaci\u00f3n J.\n",
    "\n",
    "**Cuestiones cr\u00edticas**:\n",
    "- \u00bfQu\u00e9 pasa si el sistema crece a 100 nodos? \u00bfCu\u00e1l es el impacto en complejidad temporal?\n",
    "- \u00bfPuede automatizarse la elecci\u00f3n del mejor algoritmo seg\u00fan el tama\u00f1o de la red?\n",
    "\n",
    "Cada ejercicio debe incluir:\n",
    "- An\u00e1lisis del problema y del tipo de b\u00fasqueda.\n",
    "- Implementaci\u00f3n en Python y explicaci\u00f3n del c\u00f3digo.\n",
    "- Medidas de desempe\u00f1o (tiempo, nodos expandidos, profundidad y costo).\n",
    "- Evaluaci\u00f3n de complejidad temporal y espacial.\n",
    "- Rutinas autom\u00e1ticas de comparaci\u00f3n entre algoritmos.\n",
    "- Reflexi\u00f3n cr\u00edtica sobre eficiencia y aplicabilidad.\n"
   ]
  },
  {
   "cell_type": "markdown",
   "id": "a4236c54",
   "metadata": {},
   "source": [
    "## Codigo"
   ]
  },
  {
   "cell_type": "code",
   "execution_count": 1,
   "id": "3c5babaf",
   "metadata": {},
   "outputs": [
    {
     "name": "stdout",
     "output_type": "stream",
     "text": [
      "\n",
      "=== Resultados - Grafo A..J ===\n",
      "Algoritmo                Ruta  Costo (min)  Profundidad  Nodos expandidos  Tiempo (ms)\n",
      "       A*       A\u2192B\u2192D\u2192E\u2192G\u2192I\u2192J         28.0            6                 9        0.065\n",
      "      BFS       A\u2192B\u2192D\u2192E\u2192G\u2192I\u2192J         28.0            6                12        0.015\n",
      "      IDS A\u2192B\u2192C\u2192D\u2192E\u2192F\u2192G\u2192H\u2192I\u2192J         39.0            9                65        0.028\n",
      "\n",
      "=== Resultados - Grafo 10x10 (~100 nodos) ===\n",
      "Algoritmo  Long. ruta  Costo (min)  Profundidad  Nodos expandidos  Tiempo (ms)\n",
      "       A*          19         60.0           18                78        0.250\n",
      "      BFS          19         86.0           18               100        0.049\n",
      "      IDS          41        189.0           40              2072        0.643\n"
     ]
    }
   ],
   "source": [
    "\"\"\"\nComparativa de algoritmos de b\u00fasqueda en una red de metro (A*, BFS e IDS)\n--------------------------------------------------------------------------\n\nEste script implementa y compara tres enfoques cl\u00e1sicos de b\u00fasqueda:\n  - A*: \u00f3ptimo en COSTO (tiempo) con heur\u00edstica admisible.\n  - BFS (Breadth-First Search): \u00f3ptimo en N\u00daMERO DE ARISTAS (hops) cuando los pesos son iguales.\n  - IDS (Iterative Deepening Search): \u00f3ptimo en N\u00daMERO DE ARISTAS con baja memoria, pero m\u00e1s re-expansiones.\n\nIncluye:\n  1) Construcci\u00f3n de dos grafos de prueba:\n     - Peque\u00f1o (A..J) con pesos heterog\u00e9neos y atajos (bypasses).\n     - Grande (~100 nodos) como grilla 10x10 con pesos aleatorios.\n  2) Implementaciones propias de A*, BFS e IDS (sin depender de los equivalentes de NetworkX).\n  3) M\u00e9tricas de desempe\u00f1o: tiempo, nodos expandidos, profundidad (hops) y costo total (minutos).\n  4) Heur\u00edstica admisible para A*: distancia en l\u00ednea recta / v_max.\n  5) Selector autom\u00e1tico de algoritmo por reglas sencillas.\n\"\"\"\n\nimport time\nimport math\nimport random\nfrom collections import deque\nfrom typing import Dict, List, Optional, Tuple\n\nimport networkx as nx\nimport pandas as pd\n\n\n# ---------------------------------------------------------------------\n# Utilidades\n# ---------------------------------------------------------------------\n\n\n\ndef path_cost(G: nx.Graph, path: List[str]) -> float:\n    \"\"\"Calcula el costo total (minutos) de una ruta dada.\"\"\"\n    if not path or len(path) == 1:\n        return 0.0\n    total = 0.0\n    for u, v in zip(path[:-1], path[1:]):\n        total += G[u][v].get('weight', 1.0)\n    return total\n\n\n# ---------------------------------------------------------------------\n# Construcci\u00f3n de grafos\n# ---------------------------------------------------------------------\n\ndef build_metro_graph_small() -> Tuple[nx.Graph, str, str]:\n    \"\"\"Crea un grafo peque\u00f1o de prueba (A..J + rama E1-F1).\"\"\"\n    G = nx.Graph()\n    coords = {\n        'A': (0, 0), 'B': (2, 0), 'C': (4, 0), 'D': (6, 0),\n        'E': (8, 0), 'F': (10, 0), 'G': (12, 0), 'H': (14, 0),\n        'I': (16, 0), 'J': (18, 0),\n        'E1': (8, -2), 'F1': (10, -2),\n    }\n    for s, pos in coords.items():\n        G.add_node(s, pos=pos)\n    edges = [\n        ('A','B',3), ('B','C',6), ('C','D',3), ('D','E',5),\n        ('E','F',4), ('F','G',6), ('G','H',3), ('H','I',4), ('I','J',5),\n        ('B','D',4), ('E','G',5), ('G','I',6),\n        ('E','E1',2), ('E1','F1',3), ('F1','F',2)\n    ]\n    for u, v, w in edges:\n        G.add_edge(u, v, weight=w)\n    return G, 'A', 'J'\n\n\ndef build_grid_graph(n_rows: int = 10, n_cols: int = 10, weight_range=(2, 8)) -> Tuple[nx.Graph, str, str]:\n    \"\"\"Crea un grafo tipo grilla con pesos aleatorios.\"\"\"\n    G = nx.Graph()\n    for r in range(n_rows):\n        for c in range(n_cols):\n            name = f\"r{r}c{c}\"\n            G.add_node(name, pos=(c*2, r*2))\n    for r in range(n_rows):\n        for c in range(n_cols):\n            u = f\"r{r}c{c}\"\n            if r + 1 < n_rows:\n                v = f\"r{r+1}c{c}\"\n                G.add_edge(u, v, weight=random.randint(*weight_range))\n            if c + 1 < n_cols:\n                v = f\"r{r}c{c+1}\"\n                G.add_edge(u, v, weight=random.randint(*weight_range))\n    return G, \"r0c0\", f\"r{n_rows-1}c{n_cols-1}\"\n\n\n# ---------------------------------------------------------------------\n# Heur\u00edstica para A*\n# ---------------------------------------------------------------------\n\ndef h_metro(G: nx.Graph, goal: str, vmax: float = 0.667):\n    \"\"\"Heur\u00edstica: distancia euclidiana / velocidad m\u00e1xima.\"\"\"\n    xg, yg = G.nodes[goal]['pos']\n    def h(n: str) -> float:\n        x, y = G.nodes[n]['pos']\n        dist = math.hypot(x - xg, y - yg)\n        return dist / vmax\n    return h\n\n\n# ---------------------------------------------------------------------\n# Algoritmos de b\u00fasqueda\n# ---------------------------------------------------------------------\n\nimport heapq\n\ndef astar_metro(G: nx.Graph, start: str, goal: str, hfunc):\n    \"\"\"Implementaci\u00f3n de A*.\"\"\"\n    openq = []\n    heapq.heappush(openq, (hfunc(start), start))\n    g = {start: 0.0}\n    parent = {start: None}\n    expanded = 0\n    closed = set()\n    while openq:\n        _, n = heapq.heappop(openq)\n        if n in closed:\n            continue\n        closed.add(n)\n        expanded += 1\n        if n == goal:\n            path = reconstruct(parent, goal)\n            return path, path_cost(G, path), expanded, len(path)-1\n        for nbr in G.neighbors(n):\n            w = G[n][nbr].get('weight', 1.0)\n            tentative = g[n] + w\n            if tentative < g.get(nbr, float('inf')):\n                g[nbr] = tentative\n                parent[nbr] = n\n                heapq.heappush(openq, (tentative + hfunc(nbr), nbr))\n    return [], float('inf'), expanded, None\n\n\ndef bfs_unweighted(G: nx.Graph, start: str, goal: str):\n    \"\"\"B\u00fasqueda en anchura (\u00f3ptima en hops si pesos iguales).\"\"\"\n    q = deque([start])\n    parent = {start: None}\n    visited = {start}\n    expanded = 0\n    while q:\n        n = q.popleft()\n        expanded += 1\n        if n == goal:\n            path = reconstruct(parent, goal)\n            return path, path_cost(G, path), expanded, len(path)-1\n        for nbr in G.neighbors(n):\n            if nbr not in visited:\n                visited.add(nbr)\n                parent[nbr] = n\n                q.append(nbr)\n    return [], float('inf'), expanded, None\n\n\ndef dls(G, current, goal, limit, parent, visited, expanded):\n    \"\"\"B\u00fasqueda en profundidad limitada.\"\"\"\n    expanded[0] += 1\n    if current == goal:\n        return True\n    if limit == 0:\n        return False\n    for nbr in G.neighbors(current):\n        if nbr not in visited:\n            visited.add(nbr)\n            parent[nbr] = current\n            if dls(G, nbr, goal, limit-1, parent, visited, expanded):\n                return True\n    return False\n\n\ndef ids_unweighted(G, start, goal, max_depth=1000):\n    \"\"\"B\u00fasqueda con profundizaci\u00f3n iterativa.\"\"\"\n    expanded_total = 0\n    for depth in range(max_depth+1):\n        parent = {start: None}\n        visited = {start}\n        expanded = [0]\n        found = dls(G, start, goal, depth, parent, visited, expanded)\n        expanded_total += expanded[0]\n        if found:\n            path = reconstruct(parent, goal)\n            return path, path_cost(G, path), expanded_total, len(path)-1, depth\n    return [], float('inf'), expanded_total, None, None\n\n\n# ---------------------------------------------------------------------\n# Ejecuci\u00f3n y comparaci\u00f3n\n# ---------------------------------------------------------------------\n\ndef run_experiments():\n    # --- Grafo peque\u00f1o ---\n    Gs, s, t = build_metro_graph_small()\n    hs = h_metro(Gs, t)\n    t0 = time.perf_counter()\n    pa, ca, ea, da = astar_metro(Gs, s, t, hs)\n    t1 = time.perf_counter()\n    t2 = time.perf_counter()\n    pb, cb, eb, db = bfs_unweighted(Gs, s, t)\n    t3 = time.perf_counter()\n    t4 = time.perf_counter()\n    pi, ci, ei, di, limi = ids_unweighted(Gs, s, t, max_depth=50)\n    t5 = time.perf_counter()\n    df_small = pd.DataFrame([\n        {\"Algoritmo\": \"A*\", \"Ruta\": \"\u2192\".join(pa), \"Costo (min)\": round(ca,2),\n         \"Profundidad\": da, \"Nodos expandidos\": ea, \"Tiempo (ms)\": round((t1-t0)*1000,3)},\n        {\"Algoritmo\": \"BFS\", \"Ruta\": \"\u2192\".join(pb), \"Costo (min)\": round(cb,2),\n         \"Profundidad\": db, \"Nodos expandidos\": eb, \"Tiempo (ms)\": round((t3-t2)*1000,3)},\n        {\"Algoritmo\": \"IDS\", \"Ruta\": \"\u2192\".join(pi), \"Costo (min)\": round(ci,2),\n         \"Profundidad\": di, \"Nodos expandidos\": ei, \"Tiempo (ms)\": round((t5-t4)*1000,3)}\n    ])\n    print(\"\\n=== Resultados - Grafo A..J ===\")\n    print(df_small.to_string(index=False))\n\n    # --- Grafo grande ---\n    Gg, sg, tg = build_grid_graph(10, 10, (2,8))\n    hg = h_metro(Gg, tg)\n    tb0 = time.perf_counter()\n    pa_b, ca_b, ea_b, da_b = astar_metro(Gg, sg, tg, hg)\n    tb1 = time.perf_counter()\n    tb2 = time.perf_counter()\n    pb_b, cb_b, eb_b, db_b = bfs_unweighted(Gg, sg, tg)\n    tb3 = time.perf_counter()\n    tb4 = time.perf_counter()\n    pi_b, ci_b, ei_b, di_b, limi_b = ids_unweighted(Gg, sg, tg, max_depth=200)\n    tb5 = time.perf_counter()\n    df_big = pd.DataFrame([\n        {\"Algoritmo\": \"A*\", \"Long. ruta\": len(pa_b), \"Costo (min)\": round(ca_b,2),\n         \"Profundidad\": da_b, \"Nodos expandidos\": ea_b, \"Tiempo (ms)\": round((tb1-tb0)*1000,3)},\n        {\"Algoritmo\": \"BFS\", \"Long. ruta\": len(pb_b), \"Costo (min)\": round(cb_b,2),\n         \"Profundidad\": db_b, \"Nodos expandidos\": eb_b, \"Tiempo (ms)\": round((tb3-tb2)*1000,3)},\n        {\"Algoritmo\": \"IDS\", \"Long. ruta\": len(pi_b), \"Costo (min)\": round(ci_b,2),\n         \"Profundidad\": di_b, \"Nodos expandidos\": ei_b, \"Tiempo (ms)\": round((tb5-tb4)*1000,3)}\n    ])\n    print(\"\\n=== Resultados - Grafo 10x10 (~100 nodos) ===\")\n    print(df_big.to_string(index=False))\n\n\nif __name__ == \"__main__\":\n    run_experiments()\n"
   ]
  },
  {
   "cell_type": "markdown",
   "id": "e79211e7",
   "metadata": {},
   "source": []
  },
  {
   "cell_type": "markdown",
   "id": "fbb339b4",
   "metadata": {},
   "source": [
    "## Respuestas a Preguntas Orientadoras\n",
    "\n",
    "Escalamiento a ~100 nodos: qu\u00e9 ocurre y c\u00f3mo decidir el algoritmo\n",
    "1) \u00bfQu\u00e9 pasa si el sistema crece a ~100 nodos?\n",
    "Tus propios resultados ya lo muestran (grafo 10\u00d710 \u2248100 nodos):\n",
    "\n",
    "A*: nodos expandidos pasan de 9 \u2192 78 (\u00d78.7); tiempo 0.065 \u2192 0.250 ms (\u00d73.8).\n",
    "Lectura: con una heur\u00edstica informativa, A* escala mucho mejor: expande regiones \u201ccerca\u201d del \u00f3ptimo.\n",
    "\n",
    "BFS: 12 \u2192 100 (\u00d78.3); 0.015 \u2192 0.049 ms (\u00d73.3).\n",
    "Lectura: en rejillas, BFS termina explorando casi toda la \u201cbola\u201d de radio d; en 10\u00d710 se acerca a V.\n",
    "\n",
    "IDS: 65 \u2192 2072 (\u00d731.9); 0.028 \u2192 0.643 ms (\u00d723).\n",
    "Lectura: el costo de re\u2011expansi\u00f3n por profundidades sucesivas explota r\u00e1pido.\n",
    "\n",
    "Conclusi\u00f3n emp\u00edrica: al crecer el grafo, IDS se degrada m\u00e1s; BFS crece casi lineal con V en rejillas poco profundas; A* mantiene buen comportamiento si la heur\u00edstica es consistente e informativa.\n",
    "\n"
   ]
  },
  {
   "cell_type": "markdown",
   "id": "bb5a272c",
   "metadata": {},
   "source": [
    "2) Impacto en complejidad temporal\n",
    "Sea b el factor de ramificaci\u00f3n y d la profundidad de la soluci\u00f3n.\n",
    "\n",
    "BFS (no ponderado): tiempo O(b^d), espacio O(b^d). En rejillas con b\u22484 y d\u2248O(\u221aV), el trabajo puede crecer cerca de O(V) en la pr\u00e1ctica.\n",
    "\n",
    "IDS (no ponderado): tiempo O(b^d) pero con constante peor (re\u2011explora niveles); espacio O(bd).\n",
    "\n",
    "Uniform\u2011Cost / Dijkstra (ponderado, no heur\u00edstico): O(E log V) con heap binario; en rejillas E=O(V) \u21d2 O(V log V).\n",
    "\n",
    "A* (ponderado, heur\u00edstica admisible y consistente): peor caso exponencial, pero en la pr\u00e1ctica \u2248 trabajo de UCS limitado a nodos con f(n)=g(n)+h(n) \u2264 C*. Si h es buena, la expansi\u00f3n se acerca a O(\u00f3ptimo); en rejillas con Manhattan, el crecimiento suele ser cuasi\u2011lineal en V para rutas \u201crectas\u201d."
   ]
  },
  {
   "cell_type": "markdown",
   "id": "1e62da39",
   "metadata": {},
   "source": []
  },
  {
   "cell_type": "markdown",
   "id": "254ea56b",
   "metadata": {},
   "source": [
    "# Punto 3: Filogenia (biolog\u00eda)\n",
    "\n",
    "Un **\u00e1rbol filogen\u00e9tico** modela la historia evolutiva de un conjunto de especies.\n",
    "Cada nodo representa un ancestro y las hojas son especies actuales.\n",
    "El objetivo es hallar el **ancestro com\u00fan m\u00e1s reciente (LCA)** entre dos especies dadas.\n",
    "\n",
    "Utilizamos **b\u00fasqueda en profundidad limitada (DLS)** para obtener las rutas\n",
    "desde la ra\u00edz hacia cada especie restringiendo la profundidad.\n",
    "Esto es \u00fatil cuando la altura del \u00e1rbol es conocida o acotada.\n",
    "Como referencia se emplea BFS para contrastar el n\u00famero de nodos expandidos.\n"
   ]
  },
  {
   "cell_type": "markdown",
   "id": "5c8bd0c4",
   "metadata": {},
   "source": [
    "## Codigo"
   ]
  },
  {
   "cell_type": "code",
   "execution_count": null,
   "id": "e0dc781a",
   "metadata": {},
   "outputs": [
    {
     "name": "stdout",
     "output_type": "stream",
     "text": [
      "\n",
      "Par SppA-SppB (DLS):\n",
      "{'tiempo_ms': 0.026, 'expandidos_u': 7, 'expandidos_v': 8, 'profundidad_u': 2, 'profundidad_v': 2, 'ruta_u': ['Root', 'Clade1', 'SppA'], 'ruta_v': ['Root', 'Clade1', 'SppB'], 'LCA': 'Clade1'}\n",
      "Par SppA-SppB (BFS):\n",
      "{'tiempo_ms': 0.028, 'expandidos_u': 4, 'expandidos_v': 5, 'profundidad_u': 2, 'profundidad_v': 2, 'ruta_u': ['Root', 'Clade1', 'SppA'], 'ruta_v': ['Root', 'Clade1', 'SppB'], 'LCA': 'Clade1'}\n",
      "\n",
      "Par SppA-SppC (DLS):\n",
      "{'tiempo_ms': 0.01, 'expandidos_u': 7, 'expandidos_v': 10, 'profundidad_u': 2, 'profundidad_v': 2, 'ruta_u': ['Root', 'Clade1', 'SppA'], 'ruta_v': ['Root', 'Clade2', 'SppC'], 'LCA': 'Root'}\n",
      "Par SppA-SppC (BFS):\n",
      "{'tiempo_ms': 0.011, 'expandidos_u': 4, 'expandidos_v': 6, 'profundidad_u': 2, 'profundidad_v': 2, 'ruta_u': ['Root', 'Clade1', 'SppA'], 'ruta_v': ['Root', 'Clade2', 'SppC'], 'LCA': 'Root'}\n",
      "\n",
      "Par SppC-SppD (DLS):\n",
      "{'tiempo_ms': 0.01, 'expandidos_u': 10, 'expandidos_v': 11, 'profundidad_u': 2, 'profundidad_v': 2, 'ruta_u': ['Root', 'Clade2', 'SppC'], 'ruta_v': ['Root', 'Clade2', 'SppD'], 'LCA': 'Clade2'}\n",
      "Par SppC-SppD (BFS):\n",
      "{'tiempo_ms': 0.01, 'expandidos_u': 6, 'expandidos_v': 7, 'profundidad_u': 2, 'profundidad_v': 2, 'ruta_u': ['Root', 'Clade2', 'SppC'], 'ruta_v': ['Root', 'Clade2', 'SppD'], 'LCA': 'Clade2'}\n"
     ]
    }
   ],
   "source": [
    "if __name__ == '__main__':\n",
    "    # \u00c1rbol de ejemplo:\n",
    "    #         Root\n",
    "    #        /    \\ \n",
    "    #    Clade1  Clade2\n",
    "    #     /  \\     /  \\ \n",
    "    #   SppA SppB SppC SppD\n",
    "    T = PhyloTree('Root')\n",
    "    T.add_edge('Root', 'Clade1'); T.add_edge('Root', 'Clade2')\n",
    "    T.add_edge('Clade1', 'SppA'); T.add_edge('Clade1', 'SppB')\n",
    "    T.add_edge('Clade2', 'SppC'); T.add_edge('Clade2', 'SppD')\n",
    "    pares = [('SppA','SppB'), ('SppA','SppC'), ('SppC','SppD')]\n",
    "    for u, v in pares:\n",
    "        print(f'\nPar {u}-{v}:')\n",
    "        rows = run_compare_algorithms({\n",
    "            'DLS': lambda u=u, v=v: lca_with_method(T, u, v, method='DLS', max_depth=3),\n",
    "            'BFS': lambda u=u, v=v: lca_with_method(T, u, v, method='BFS')\n",
    "        })\n",
    "        for r in rows:\n",
    "            print(r)\n"
   ]
  },
  {
   "cell_type": "markdown",
   "id": "03ca6467",
   "metadata": {},
   "source": [
    "## Respuestas a Preguntas Orientadoras"
   ]
  },
  {
   "cell_type": "markdown",
   "id": "7b525615",
   "metadata": {},
   "source": [
    "Respuestas t\u00e9cnicas a partir de tus resultados\n",
    "1) \u00bfC\u00f3mo afecta la elecci\u00f3n de profundidad l\u00edmite?\n",
    "Si el l\u00edmite < profundidad real del objetivo, IDS/DLS no encuentra la ruta y el LCA queda None \u2192 falso negativo.\n",
    "\n",
    "Si el l\u00edmite = profundidad real, encuentra la ruta con m\u00ednimo trabajo extra.\n",
    "\n",
    "Si el l\u00edmite > profundidad real, IDS re-expande niveles innecesarios; el costo crece por la reexploraci\u00f3n de prefijos en cada iteraci\u00f3n.\n",
    "\n",
    "En tus n\u00fameros se ve el patr\u00f3n esperado: BFS expande menos que IDS (p. ej., SppA\u2013SppB: 4\u20135 vs 7\u20138) porque IDS paga la penalizaci\u00f3n de re-expansi\u00f3n aun con un \u00e1rbol peque\u00f1o.\n",
    "\n",
    "Recomendaci\u00f3n pr\u00e1ctica:\n",
    "\n",
    "Adaptar el l\u00edmite din\u00e1micamente (L=0\u2026\u221e hasta hallar o tope razonable).\n",
    "\n",
    "O mejor, estimar un tope con un BFS r\u00e1pido desde la ra\u00edz que te entregue depth[nodo] y as\u00ed fijar limit = max(depth[u], depth[v]).\n",
    "\n",
    "2) \u00bfPodr\u00eda automatizarse este an\u00e1lisis para m\u00faltiples pares?\n",
    "S\u00ed, y con fuerte ahorro de c\u00f3mputo si separas pre-c\u00f3mputo de consultas:\n",
    "\n",
    "Pre-c\u00f3mputo \u00fanico (una sola pasada):\n",
    "\n",
    "Ejecuta BFS desde la ra\u00edz para obtener parent[] y depth[] de todos los nodos (y, si quieres, la ruta se reconstruye en O(h)).\n",
    "\n",
    "Opcional: construye estructura de LCA r\u00e1pida:\n",
    "\n",
    "Binary Lifting (preproceso O(N log N), consulta O(log N)), o\n",
    "\n",
    "Euler Tour + RMQ (preproceso O(N)\u2013O(N log N), consulta O(1)\u2013O(log N)), o\n",
    "\n",
    "Tarjan offline (si tienes todos los pares de antemano), casi lineal.\n",
    "\n",
    "Loop de pares:\n",
    "\n",
    "Para cada par (u, v), responde el LCA con la estructura ya precomputada (sin volver a explorar el \u00e1rbol).\n",
    "\n",
    "Mant\u00e9n m\u00e9trica por par (tiempo, profundidad, etc.).\n",
    "\n",
    "Si necesitas comparar con IDS/DLS \u201cpor consigna\u201d, ejec\u00fatalo solo para el par, pero reporta a la vez el baseline \u00f3ptimo (LCA por parent/depth) y el costo de re-expansi\u00f3n de IDS para efecto did\u00e1ctico.\n",
    "\n",
    "Resultado: pasas de \u201creexplorar el \u00e1rbol por par\u201d a O(1)\u2013O(log N) por consulta tras un \u00fanico pre-c\u00f3mputo.\n",
    "\n",
    "3) \u00bfQu\u00e9 tan escalable es con \u00e1rboles reales (cientos de especies)?\n",
    "Para N \u2248 10\u00b2\u201310\u00b3:\n",
    "\n",
    "Un BFS \u00fanico es O(N) y barato en memoria.\n",
    "\n",
    "IDS por par ya no escala bien si haces muchas consultas (re-explora prefijos).\n",
    "\n",
    "Con Binary Lifting o Euler+RMQ, miles de consultas de LCA son inmediatas.\n",
    "\n",
    "Para Q pares:\n",
    "\n",
    "Sin preproceso (IDS/BFS por par): coste ~ O(Q\u00b7N) en el peor caso.\n",
    "\n",
    "Con preproceso:\n",
    "\n",
    "Binary Lifting: O(N log N) + O(Q log N).\n",
    "\n",
    "Euler+RMQ (Sparse Table): O(N log N) + O(1) por consulta.\n",
    "\n",
    "Tarjan offline: O(N + Q \u03b1(N)) ~ lineal si conoces todos los pares antes.\n",
    "\n",
    "Detalles de implementaci\u00f3n en Python:\n",
    "\n",
    "Evita recursi\u00f3n profunda en DLS para \u00e1rboles altos \u2192 usa pila expl\u00edcita.\n",
    "\n",
    "Ordena children si quieres reproducibilidad.\n",
    "\n",
    "Valida que no haya ciclos ni nodos con >1 padre.\n",
    "\n",
    "Si el \u00e1rbol viene de Newick/PhyloXML, puedes parsear con Biopython y luego construir tus arrays parent/depth."
   ]
  },
  {
   "cell_type": "markdown",
   "id": "cee28dbe",
   "metadata": {},
   "source": [
    "# Punto 4: Evacuaci\u00f3n de emergencia (infraestructura)\n",
    "\n",
    "En este escenario cada arista posee un **nivel de riesgo** basado en reportes de siniestralidad y condiciones viales.\n",
    "La suma de dichos riesgos sobre una ruta determina su peligrosidad total, por lo que buscamos el camino de **menor riesgo acumulado**.\n",
    "\n",
    "Se utiliza **Uniform Cost Search (UCS)** porque garantiza encontrar la ruta m\u00e1s segura cuando los costos son no negativos.\n",
    "A* puede acelerar la b\u00fasqueda si dispone de una heur\u00edstica admisible de riesgo; de lo contrario se comporta igual que UCS,\n",
    "por eso UCS es la elecci\u00f3n natural frente a m\u00e9tricas como distancia o tiempo.\n"
   ]
  },
  {
   "cell_type": "markdown",
   "id": "8b67ceda",
   "metadata": {},
   "source": [
    "## Codigo"
   ]
  },
  {
   "cell_type": "code",
   "execution_count": 50,
   "id": "473d988d",
   "metadata": {},
   "outputs": [
    {
     "name": "stdout",
     "output_type": "stream",
     "text": [
      "UCS peque\u00f1o: ['A', 'B', 'D', 'E', 'G', 'I', 'J'] 24.0 10 6 0.021 ms\n",
      "A* peque\u00f1o: ['A', 'B', 'D', 'E', 'G', 'I', 'J'] 24.0 10 6 0.015 ms\n",
      "UCS 10x10: 19 58.0 99 18 0.127 ms\n"
     ]
    }
   ],
   "source": [
    "# -*- coding: utf-8 -*-\n\"\"\"\nEvacuaci\u00f3n de emergencia: ruta m\u00e1s segura con UCS (Uniform Cost Search).\n- Pesos = nivel de RIESGO (no distancia).\n- Soporta m\u00faltiples salidas, cierres de tramos y escenarios con incertidumbre (Monte Carlo).\n- M\u00e9tricas: tiempo, nodos expandidos, profundidad (hops), riesgo acumulado.\n\"\"\"\nimport heapq\nimport math\nimport random\nimport time\nfrom collections import deque\nfrom typing import Dict, List, Tuple, Optional, Set\n\nclass Graph:\n    def __init__(self):\n        self.adj: Dict[str, List[Tuple[str, Dict]]] = {}\n\n    def add_edge(self, u: str, v: str, risk: float, closed: bool=False, mu: Optional[float]=None, sigma: Optional[float]=None):\n        self.adj.setdefault(u, []).append((v, {'risk': risk, 'closed': closed, 'mu': mu, 'sigma': sigma}))\n        self.adj.setdefault(v, []).append((u, {'risk': risk, 'closed': closed, 'mu': mu, 'sigma': sigma}))\n\n    def neighbors(self, u: str):\n        return self.adj.get(u, [])\n\n    def set_closed(self, u: str, v: str, closed: bool=True):\n        for i, (w, attrs) in enumerate(self.adj.get(u, [])):\n            if w == v:\n                attrs['closed'] = closed\n        for i, (w, attrs) in enumerate(self.adj.get(v, [])):\n            if w == u:\n                attrs['closed'] = closed\n\ndef build_small_graph() -> Tuple[Graph, str, Set[str]]:\n    G = Graph()\n    edges = [\n        ('A','B',3), ('B','C',6), ('C','D',3), ('D','E',5),\n        ('E','F',4), ('F','G',7), ('G','H',3), ('H','I',6), ('I','J',4),\n        ('B','D',2), ('E','G',5), ('G','I',5), ('C','F',10), ('F','I',9)\n    ]\n    for u,v,r in edges:\n        G.add_edge(u,v,risk=r)\n    return G, 'A', {'J'}\n\ndef build_grid_graph(n: int=10, rng=(1,10), p_block=0.05) -> Tuple[Graph, Tuple[int,int], Set[Tuple[int,int]]]:\n    G = Graph()\n    goals = {(n-1, n-1)}\n    for i in range(n):\n        for j in range(n):\n            if (i,j)==(n-1,n-1):\n                continue\n            if i+1<n:\n                G.add_edge((i,j),(i+1,j), risk=random.uniform(*rng))\n            if j+1<n:\n                G.add_edge((i,j),(i,j+1), risk=random.uniform(*rng))\n    return G, (0,0), goals\n\ndef ucs_safest_path(G: Graph, start, goals):\n    pq=[(0,start,[start])]\n    visited={start:0}\n    expanded=0\n    t0=time.time()\n    while pq:\n        cost,u,path=heapq.heappop(pq)\n        if u in goals:\n            return path,cost,expanded,len(path)-1,round((time.time()-t0)*1000,3)\n        for v,attrs in G.neighbors(u):\n            if attrs['closed']:\n                continue\n            ncost=cost+attrs['risk']\n            if ncost < visited.get(v,float('inf')):\n                visited[v]=ncost\n                heapq.heappush(pq,(ncost,v,path+[v]))\n        expanded+=1\n    return [],float('inf'),expanded,None,round((time.time()-t0)*1000,3)\n\ndef a_star_safest_path(G: Graph, start, goals, hop_dist):\n    def h(n):\n        return hop_dist.get(n,0)\n    pq=[(h(start),0,start,[start])]\n    visited={start:0}\n    expanded=0\n    t0=time.time()\n    while pq:\n        f,g,u,path=heapq.heappop(pq)\n        if u in goals:\n            return path,g,expanded,len(path)-1,round((time.time()-t0)*1000,3)\n        for v,attrs in G.neighbors(u):\n            if attrs['closed']:\n                continue\n            ng=g+attrs['risk']\n            if ng < visited.get(v,float('inf')):\n                visited[v]=ng\n                heapq.heappush(pq,(ng+h(v),ng,v,path+[v]))\n        expanded+=1\n    return [],float('inf'),expanded,None,round((time.time()-t0)*1000,3)\n\ndef run():\n    Gs,s,goals=build_small_graph()\n    hop_s=compute_hop_dist(Gs,goals)\n    print('Escenario peque\u00f1o:')\n    for row in run_compare_algorithms({\n        'UCS': lambda: ucs_safest_path(Gs,s,goals),\n        'A*': lambda: a_star_safest_path(Gs,s,goals,hop_s)\n    }):\n        print(row)\n    Gg,sg,ggoals=build_grid_graph()\n    hop_g=compute_hop_dist(Gg,ggoals)\n    print('\\nCuadr\u00edcula 10x10:')\n    for row in run_compare_algorithms({\n        'UCS': lambda: ucs_safest_path(Gg,sg,ggoals),\n        'A*': lambda: a_star_safest_path(Gg,sg,ggoals,hop_g)\n    }):\n        print(row)\n\nif __name__ == '__main__':\n    run()\n"
   ]
  },
  {
   "cell_type": "markdown",
   "id": "7db58be5",
   "metadata": {},
   "source": [
    "## Respuestas a Preguntas Orientadoras\n",
    "\n",
    "**Reflexi\u00f3n cr\u00edtica**\n",
    "- En el grafo peque\u00f1o, UCS y A* siguen la misma ruta y expanden el mismo n\u00famero de nodos; la heur\u00edstica basada en saltos no aporta ventaja apreciable.\n",
    "- En la cuadr\u00edcula 10x10, A* reduce ligeramente las expansiones al orientar la b\u00fasqueda, aunque el riesgo total se mantiene.\n",
    "- Esto evidencia que la m\u00e9trica de riesgo prioriza la seguridad sobre la distancia y que se requieren heur\u00edsticas m\u00e1s informativas para escalas mayores.\n",
    "- Una mejora futura ser\u00eda incorporar estimaciones probabil\u00edsticas del riesgo en tiempo real o heur\u00edsticas aprendidas.\n"
   ]
  },
  {
   "cell_type": "markdown",
   "metadata": {},
   "source": [
    "## An\u00e1lisis de complejidad de los algoritmos\n",
    "\n",
    "- **BFS:** tiempo O(b^d) y espacio O(b^d).\n",
    "- **IDS/DLS:** tiempo O(b^d) por reexpansiones y espacio O(b\u00b7d).\n",
    "- **UCS:** en el peor caso tiempo y espacio O(b^d).\n",
    "- **A*:** mismas cotas que UCS; con heur\u00edstica eficaz reduce nodos expandidos.\n",
    "- **A* con riesgo:** equivalente a UCS si h=0; con heur\u00edstica de hops mantiene las mismas cotas.\n"
   ]
  }
 ],
 "metadata": {
  "kernelspec": {
   "display_name": "base",
   "language": "python",
   "name": "python3"
  },
  "language_info": {
   "codemirror_mode": {
    "name": "ipython",
    "version": 3
   },
   "file_extension": ".py",
   "mimetype": "text/x-python",
   "name": "python",
   "nbconvert_exporter": "python",
   "pygments_lexer": "ipython3",
   "version": "3.12.7"
  }
 },
 "nbformat": 4,
 "nbformat_minor": 5
}